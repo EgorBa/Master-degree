{
 "cells": [
  {
   "cell_type": "markdown",
   "source": [
    "Импортируем нужные зависимости"
   ],
   "metadata": {
    "collapsed": false,
    "pycharm": {
     "name": "#%% md\n"
    }
   }
  },
  {
   "cell_type": "code",
   "execution_count": 15,
   "outputs": [],
   "source": [
    "from pyspark.sql import SparkSession\n",
    "from pyspark.ml.clustering import KMeans\n",
    "from pyspark.ml.evaluation import ClusteringEvaluator\n",
    "import pandas as pd\n",
    "from pyspark.ml.feature import VectorAssembler\n",
    "from constants import COLUMS\n",
    "import dotenv\n",
    "import psycopg2\n",
    "import os"
   ],
   "metadata": {
    "collapsed": false,
    "pycharm": {
     "name": "#%%\n"
    }
   }
  },
  {
   "cell_type": "markdown",
   "source": [
    "Создаем SparkSession"
   ],
   "metadata": {
    "collapsed": false,
    "pycharm": {
     "name": "#%% md\n"
    }
   }
  },
  {
   "cell_type": "code",
   "execution_count": 16,
   "outputs": [],
   "source": [
    "os.environ[\"PYARROW_IGNORE_TIMEZONE\"] = \"1\"\n",
    "\n",
    "spark = SparkSession.builder \\\n",
    "    .config(\"spark.executor.memory\", \"70g\") \\\n",
    "    .config(\"spark.driver.memory\", \"50g\") \\\n",
    "    .config(\"spark.memory.offHeap.enabled\", \"true\") \\\n",
    "    .config(\"spark.memory.offHeap.size\", \"16g\") \\\n",
    "    .getOrCreate()"
   ],
   "metadata": {
    "collapsed": false,
    "pycharm": {
     "name": "#%%\n"
    }
   }
  },
  {
   "cell_type": "markdown",
   "source": [
    "Загружаем и предобрабатываем исходный датасет"
   ],
   "metadata": {
    "collapsed": false,
    "pycharm": {
     "name": "#%% md\n"
    }
   }
  },
  {
   "cell_type": "code",
   "execution_count": 17,
   "outputs": [
    {
     "name": "stderr",
     "output_type": "stream",
     "text": [
      "                                                                                \r"
     ]
    },
    {
     "name": "stdout",
     "output_type": "stream",
     "text": [
      "+--------------------+\n",
      "|            features|\n",
      "+--------------------+\n",
      "|(119,[43,58,114],...|\n",
      "|(119,[6,22,36,43,...|\n",
      "|(119,[6,22,43,57,...|\n",
      "|(119,[6,22,43,55,...|\n",
      "|(119,[6,22,43,55,...|\n",
      "|(119,[43,58,114],...|\n",
      "|(119,[22,43,55,57...|\n",
      "|(119,[6,22,43,55,...|\n",
      "|(119,[6,22,43,55,...|\n",
      "|(119,[43,58,114],...|\n",
      "|(119,[43,58,114],...|\n",
      "|(119,[6,22,43,57,...|\n",
      "|(119,[6,43,55,57,...|\n",
      "|(119,[6,22,43,55,...|\n",
      "|(119,[43,58,114],...|\n",
      "|(119,[43,58,114],...|\n",
      "|(119,[43,58,114],...|\n",
      "|(119,[43,58,114],...|\n",
      "|(119,[43,58,114],...|\n",
      "|(119,[43,58,114],...|\n",
      "+--------------------+\n",
      "only showing top 20 rows\n",
      "\n"
     ]
    },
    {
     "name": "stderr",
     "output_type": "stream",
     "text": [
      "                                                                                \r"
     ]
    }
   ],
   "source": [
    "dataset = spark.read.csv(\"en.openfoodfacts.org.products.csv\", inferSchema=True, header=True, sep=\"\\t\")\n",
    "dataset = dataset.na.fill(0.0).na.fill(\"unkhown\")\n",
    "cols_to_keep = list(COLUMS)\n",
    "dataset = VectorAssembler(inputCols=cols_to_keep, outputCol=\"features\").setHandleInvalid(\"error\").transform(dataset)\n",
    "dataset = dataset.select(\"features\")\n",
    "dataset.show()"
   ],
   "metadata": {
    "collapsed": false,
    "pycharm": {
     "name": "#%%\n"
    }
   }
  },
  {
   "cell_type": "markdown",
   "source": [
    "Конвертируем данные в pandas DataFrame"
   ],
   "metadata": {
    "collapsed": false,
    "pycharm": {
     "name": "#%% md\n"
    }
   }
  },
  {
   "cell_type": "code",
   "execution_count": 18,
   "outputs": [],
   "source": [
    "datasetPD = dataset.toPandas()"
   ],
   "metadata": {
    "collapsed": false,
    "pycharm": {
     "name": "#%%\n"
    }
   }
  },
  {
   "cell_type": "markdown",
   "source": [
    "Подгружаем креды для базы данных"
   ],
   "metadata": {
    "collapsed": false,
    "pycharm": {
     "name": "#%% md\n"
    }
   }
  },
  {
   "cell_type": "code",
   "execution_count": 19,
   "outputs": [],
   "source": [
    "dotenv.load_dotenv()\n",
    "\n",
    "DATABASE_NAME = os.environ[\"DATABASE_NAME\"]\n",
    "DATABASE_COLUMN = os.getenv(\"DATABASE_COLUMN\")\n",
    "DATABASE_USER = os.getenv(\"DATABASE_USER\")\n",
    "DATABASE_PASSWORD = os.getenv(\"DATABASE_PASSWORD\")\n",
    "DATABASE_HOST = os.getenv(\"DATABASE_HOST\")\n",
    "DATABASE_N = os.getenv(\"DATABASE_N\")"
   ],
   "metadata": {
    "collapsed": false,
    "pycharm": {
     "name": "#%%\n"
    }
   }
  },
  {
   "cell_type": "markdown",
   "source": [
    "Коннектимся к Базе данных"
   ],
   "metadata": {
    "collapsed": false,
    "pycharm": {
     "name": "#%% md\n"
    }
   }
  },
  {
   "cell_type": "code",
   "execution_count": 20,
   "outputs": [],
   "source": [
    "conn = psycopg2.connect(dbname=DATABASE_N, user=DATABASE_USER, password=DATABASE_PASSWORD, host=DATABASE_HOST)\n",
    "cursor = conn.cursor()\n",
    "\n",
    "conn.autocommit = True\n",
    "\n",
    "sql = F\"DROP TABLE IF EXISTS {DATABASE_NAME};\"\n",
    "cursor.execute(sql)\n",
    "\n",
    "sql = F\"CREATE TABLE {DATABASE_NAME} ({DATABASE_COLUMN} varchar)\"\n",
    "cursor.execute(sql)\n",
    "\n",
    "cursor.close()\n",
    "conn.close()"
   ],
   "metadata": {
    "collapsed": false,
    "pycharm": {
     "name": "#%%\n"
    }
   }
  },
  {
   "cell_type": "markdown",
   "source": [
    "Готовоим данные для записи в Базу данных"
   ],
   "metadata": {
    "collapsed": false,
    "pycharm": {
     "name": "#%% md\n"
    }
   }
  },
  {
   "cell_type": "code",
   "execution_count": 21,
   "outputs": [],
   "source": [
    "all_data = []\n",
    "for i in range(len(datasetPD)):\n",
    "    data_str = \"\"\n",
    "    for j in range(len(datasetPD.loc[i])):\n",
    "        data_str += str(datasetPD.loc[i][j])\n",
    "        if j != len(datasetPD.loc[i]) - 1:\n",
    "            data_str += \",\"\n",
    "    all_data.append(data_str)"
   ],
   "metadata": {
    "collapsed": false,
    "pycharm": {
     "name": "#%%\n"
    }
   }
  },
  {
   "cell_type": "markdown",
   "source": [
    "Создаем функцию для записи данных в Базу данных"
   ],
   "metadata": {
    "collapsed": false,
    "pycharm": {
     "name": "#%% md\n"
    }
   }
  },
  {
   "cell_type": "code",
   "execution_count": 22,
   "outputs": [],
   "source": [
    "def add_lines(lines):\n",
    "    conn = psycopg2.connect(dbname=DATABASE_N, user=DATABASE_USER, password=DATABASE_PASSWORD, host=DATABASE_HOST)\n",
    "    cursor = conn.cursor()\n",
    "\n",
    "    conn.autocommit = True\n",
    "    line_data = \"\"\n",
    "    for i, line in enumerate(lines):\n",
    "        line_data += f\"(\\'{line}\\')\"\n",
    "        if i != len(lines) - 1:\n",
    "            line_data += \",\"\n",
    "    sql = f\"INSERT INTO {DATABASE_NAME}({DATABASE_COLUMN}) VALUES {line_data}\"\n",
    "    cursor.execute(sql)\n",
    "\n",
    "    cursor.close()\n",
    "    conn.close()"
   ],
   "metadata": {
    "collapsed": false,
    "pycharm": {
     "name": "#%%\n"
    }
   }
  },
  {
   "cell_type": "markdown",
   "source": [
    "Записываем данные в Базу данных"
   ],
   "metadata": {
    "collapsed": false,
    "pycharm": {
     "name": "#%% md\n"
    }
   }
  },
  {
   "cell_type": "code",
   "execution_count": 23,
   "outputs": [],
   "source": [
    "add_lines(all_data)"
   ],
   "metadata": {
    "collapsed": false,
    "pycharm": {
     "name": "#%%\n"
    }
   }
  },
  {
   "cell_type": "markdown",
   "source": [
    "Читаем данные из Базы данных"
   ],
   "metadata": {
    "collapsed": false,
    "pycharm": {
     "name": "#%% md\n"
    }
   }
  },
  {
   "cell_type": "code",
   "execution_count": 24,
   "outputs": [],
   "source": [
    "conn = psycopg2.connect(dbname=DATABASE_N, user=DATABASE_USER, password=DATABASE_PASSWORD, host=DATABASE_HOST)\n",
    "cursor = conn.cursor()\n",
    "\n",
    "conn.autocommit = True\n",
    "sql = f\"SELECT * FROM {DATABASE_NAME}\"\n",
    "cursor.execute(sql)\n",
    "\n",
    "all_data = []\n",
    "for dat in cursor.fetchall():\n",
    "    data = dat[0].split(\",\")\n",
    "    list_data = []\n",
    "    for i in range(len(data)):\n",
    "        list_data.append(data[i])\n",
    "    all_data.append(list_data)\n",
    "df = pd.DataFrame(all_data, columns=['features'])\n",
    "\n",
    "cursor.close()\n",
    "conn.close()"
   ],
   "metadata": {
    "collapsed": false,
    "pycharm": {
     "name": "#%%\n"
    }
   }
  },
  {
   "cell_type": "markdown",
   "source": [
    "Обрабатываем данные из Базы данных"
   ],
   "metadata": {
    "collapsed": false,
    "pycharm": {
     "name": "#%% md\n"
    }
   }
  },
  {
   "cell_type": "code",
   "execution_count": 25,
   "outputs": [
    {
     "name": "stdout",
     "output_type": "stream",
     "text": [
      "+--------------------+\n",
      "|            features|\n",
      "+--------------------+\n",
      "|(119,[43,58,114],...|\n",
      "|(119,[6,22,36,43,...|\n",
      "|(119,[6,22,43,57,...|\n",
      "|(119,[6,22,43,55,...|\n",
      "|(119,[6,22,43,55,...|\n",
      "|(119,[43,58,114],...|\n",
      "|(119,[22,43,55,57...|\n",
      "|(119,[6,22,43,55,...|\n",
      "|(119,[6,22,43,55,...|\n",
      "|(119,[43,58,114],...|\n",
      "|(119,[43,58,114],...|\n",
      "|(119,[6,22,43,57,...|\n",
      "|(119,[6,43,55,57,...|\n",
      "|(119,[6,22,43,55,...|\n",
      "|(119,[43,58,114],...|\n",
      "|(119,[43,58,114],...|\n",
      "|(119,[43,58,114],...|\n",
      "|(119,[43,58,114],...|\n",
      "|(119,[43,58,114],...|\n",
      "|(119,[43,58,114],...|\n",
      "+--------------------+\n",
      "only showing top 20 rows\n",
      "\n"
     ]
    }
   ],
   "source": [
    "dataset = spark.createDataFrame(df)\n",
    "dataset.show()"
   ],
   "metadata": {
    "collapsed": false,
    "pycharm": {
     "name": "#%%\n"
    }
   }
  },
  {
   "cell_type": "markdown",
   "source": [
    "Обучаем и сохраняем модель"
   ],
   "metadata": {
    "collapsed": false,
    "pycharm": {
     "name": "#%% md\n"
    }
   }
  },
  {
   "cell_type": "code",
   "execution_count": 27,
   "outputs": [
    {
     "name": "stderr",
     "output_type": "stream",
     "text": [
      "                                                                                \r"
     ]
    }
   ],
   "source": [
    "kmeans = KMeans().setK(3).setSeed(1).setMaxIter(5)\n",
    "model = kmeans.fit(dataset)\n",
    "model.save(\"kmeans.sav\")"
   ],
   "metadata": {
    "collapsed": false,
    "pycharm": {
     "name": "#%%\n"
    }
   }
  },
  {
   "cell_type": "markdown",
   "source": [
    "Считаем предсказания модели"
   ],
   "metadata": {
    "collapsed": false,
    "pycharm": {
     "name": "#%% md\n"
    }
   }
  },
  {
   "cell_type": "code",
   "execution_count": 28,
   "outputs": [
    {
     "name": "stderr",
     "output_type": "stream",
     "text": [
      "[Stage 52:=======================================================>(60 + 1) / 61]\r"
     ]
    },
    {
     "name": "stdout",
     "output_type": "stream",
     "text": [
      "Silhouette with squared euclidean distance = 0.9999993029872573\n"
     ]
    },
    {
     "name": "stderr",
     "output_type": "stream",
     "text": [
      "                                                                                \r"
     ]
    }
   ],
   "source": [
    "predictions = model.transform(dataset)\n",
    "evaluator = ClusteringEvaluator()\n",
    "silhouette = evaluator.evaluate(predictions)\n",
    "print(\"Silhouette with squared euclidean distance = \" + str(silhouette))"
   ],
   "metadata": {
    "collapsed": false,
    "pycharm": {
     "name": "#%%\n"
    }
   }
  },
  {
   "cell_type": "markdown",
   "source": [
    "Записываем результат работы модели в Базу данных"
   ],
   "metadata": {
    "collapsed": false,
    "pycharm": {
     "name": "#%% md\n"
    }
   }
  },
  {
   "cell_type": "code",
   "execution_count": 31,
   "outputs": [
    {
     "name": "stderr",
     "output_type": "stream",
     "text": [
      "                                                                                \r"
     ]
    },
    {
     "name": "stdout",
     "output_type": "stream",
     "text": [
      "                                            features  prediction\n",
      "0  (0.0, 0.0, 0.0, 0.0, 0.0, 0.0, 0.0, 0.0, 0.0, ...           0\n",
      "1  (0.0, 0.0, 0.0, 0.0, 0.0, 0.0, 65.0, 0.0, 0.0,...           0\n",
      "2  (0.0, 0.0, 0.0, 0.0, 0.0, 0.0, 9.8, 0.0, 0.0, ...           0\n",
      "3  (0.0, 0.0, 0.0, 0.0, 0.0, 0.0, 3.9, 0.0, 0.0, ...           0\n",
      "4  (0.0, 0.0, 0.0, 0.0, 0.0, 0.0, 70.1, 0.0, 0.0,...           0\n"
     ]
    }
   ],
   "source": [
    "predictionsDF = predictions.toPandas()\n",
    "add_lines(predictionsDF)\n",
    "predictionsDF.head()"
   ],
   "metadata": {
    "collapsed": false,
    "pycharm": {
     "name": "#%%\n"
    }
   }
  }
 ],
 "metadata": {
  "kernelspec": {
   "display_name": "Python 3",
   "language": "python",
   "name": "python3"
  },
  "language_info": {
   "codemirror_mode": {
    "name": "ipython",
    "version": 2
   },
   "file_extension": ".py",
   "mimetype": "text/x-python",
   "name": "python",
   "nbconvert_exporter": "python",
   "pygments_lexer": "ipython2",
   "version": "2.7.6"
  }
 },
 "nbformat": 4,
 "nbformat_minor": 0
}