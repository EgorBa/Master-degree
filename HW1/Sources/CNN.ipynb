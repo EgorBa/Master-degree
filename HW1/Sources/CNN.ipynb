{
 "cells": [
  {
   "cell_type": "code",
   "execution_count": 6,
   "metadata": {
    "collapsed": true
   },
   "outputs": [],
   "source": [
    "from layers.linear import Linear\n",
    "from layers.convolution import Convolution\n",
    "from layers.pooling import Pooling\n",
    "from layers.flatten import Flatten\n",
    "from layers.activation import Relu, Softmax\n",
    "\n",
    "from model.model import Model\n",
    "\n",
    "from loss.losses import CategoricalCrossEntropy\n",
    "from keras.datasets import mnist\n",
    "\n",
    "import warnings\n",
    "warnings.filterwarnings(\"ignore\")"
   ]
  },
  {
   "cell_type": "code",
   "execution_count": 7,
   "outputs": [
    {
     "name": "stdout",
     "output_type": "stream",
     "text": [
      "Train data shape: (2000, 28, 28, 1), (2000, 1)\n",
      "Test data shape: (500, 28, 28, 1), (500, 1)\n"
     ]
    }
   ],
   "source": [
    "max_train_len = 2000\n",
    "max_test_len = 500\n",
    "(train_data, train_labels), (test_data, test_labels) = mnist.load_data()\n",
    "\n",
    "train_data = (train_data / 255).reshape(-1, 28,28, 1)[:max_train_len]\n",
    "test_data = (test_data / 255).reshape(-1, 28,28, 1)[:max_test_len]\n",
    "\n",
    "train_labels = train_labels.reshape(-1, 1)[:max_train_len]\n",
    "test_labels = test_labels.reshape(-1, 1)[:max_test_len]\n",
    "\n",
    "print(\"Train data shape: {}, {}\".format(train_data.shape, train_labels.shape))\n",
    "print(\"Test data shape: {}, {}\".format(test_data.shape, test_labels.shape))"
   ],
   "metadata": {
    "collapsed": false,
    "pycharm": {
     "name": "#%%\n"
    }
   }
  },
  {
   "cell_type": "code",
   "execution_count": 8,
   "outputs": [],
   "source": [
    "model = Model(\n",
    "    Convolution(filters=5, padding='same'),\n",
    "    Relu(),\n",
    "    Pooling(mode='max', kernel_shape=(2, 2), stride=2),\n",
    "    Flatten(),\n",
    "    Linear(units=10),\n",
    "    Softmax(),\n",
    "    name='cnn_np'\n",
    ")\n",
    "model.set_loss(CategoricalCrossEntropy)"
   ],
   "metadata": {
    "collapsed": false,
    "pycharm": {
     "name": "#%%\n"
    }
   }
  },
  {
   "cell_type": "code",
   "execution_count": 9,
   "outputs": [
    {
     "name": "stdout",
     "output_type": "stream",
     "text": [
      "Running Epoch: 1\n",
      "Running Epoch: 2\n",
      "Running Epoch: 3\n",
      "Running Epoch: 4\n",
      "Running Epoch: 5\n"
     ]
    }
   ],
   "source": [
    "model.train(train_data, train_labels.T, epochs=5)"
   ],
   "metadata": {
    "collapsed": false,
    "pycharm": {
     "name": "#%%\n"
    }
   }
  },
  {
   "cell_type": "code",
   "execution_count": 12,
   "outputs": [
    {
     "data": {
      "text/plain": "'test accuracy = 0.975342165314636'"
     },
     "execution_count": 12,
     "metadata": {},
     "output_type": "execute_result"
    }
   ],
   "source": [
    "'test accuracy = {}'.format(model.evaluate(test_data, test_labels))"
   ],
   "metadata": {
    "collapsed": false,
    "pycharm": {
     "name": "#%%\n"
    }
   }
  }
 ],
 "metadata": {
  "kernelspec": {
   "display_name": "Python 3",
   "language": "python",
   "name": "python3"
  },
  "language_info": {
   "codemirror_mode": {
    "name": "ipython",
    "version": 2
   },
   "file_extension": ".py",
   "mimetype": "text/x-python",
   "name": "python",
   "nbconvert_exporter": "python",
   "pygments_lexer": "ipython2",
   "version": "2.7.6"
  }
 },
 "nbformat": 4,
 "nbformat_minor": 0
}