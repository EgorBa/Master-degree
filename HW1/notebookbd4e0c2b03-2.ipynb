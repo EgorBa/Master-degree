{
 "metadata": {
  "kernelspec": {
   "language": "python",
   "display_name": "Python 3",
   "name": "python3"
  },
  "language_info": {
   "name": "python",
   "version": "3.7.12",
   "mimetype": "text/x-python",
   "codemirror_mode": {
    "name": "ipython",
    "version": 3
   },
   "pygments_lexer": "ipython3",
   "nbconvert_exporter": "python",
   "file_extension": ".py"
  }
 },
 "nbformat_minor": 4,
 "nbformat": 4,
 "cells": [
  {
   "cell_type": "markdown",
   "source": [
    "**Лабораторная работа № 1 «Классификация изображений с помощью сверточных нейронных сетей»**"
   ],
   "metadata": {}
  },
  {
   "cell_type": "code",
   "source": [
    "from keras.models import Sequential\n",
    "from keras.layers import Conv2D, MaxPooling2D, Dropout, Flatten, Dense\n",
    "from keras.preprocessing.image  import ImageDataGenerator\n",
    "from keras import backend as K"
   ],
   "metadata": {
    "_uuid": "8f2839f25d086af736a60e9eeb907d3b93b6e0e5",
    "_cell_guid": "b1076dfc-b9ad-4769-8c92-a6c4dae69d19",
    "execution": {
     "iopub.status.busy": "2022-10-18T13:36:22.806814Z",
     "iopub.execute_input": "2022-10-18T13:36:22.807269Z",
     "iopub.status.idle": "2022-10-18T13:36:22.813675Z",
     "shell.execute_reply.started": "2022-10-18T13:36:22.807232Z",
     "shell.execute_reply": "2022-10-18T13:36:22.812359Z"
    },
    "trusted": true,
    "pycharm": {
     "is_executing": true
    }
   },
   "execution_count": null,
   "outputs": []
  },
  {
   "cell_type": "markdown",
   "source": [
    "Настраиваем параметрый для test и train данных"
   ],
   "metadata": {}
  },
  {
   "cell_type": "code",
   "source": [
    "train_path = \"/kaggle/input/fruits/fruits-360_dataset/fruits-360/Training/\"\n",
    "test_path = \"/kaggle/input/fruits/fruits-360_dataset/fruits-360/Test/\"\n",
    "shape_of_image = [100, 100, 3]\n",
    "number_of_class = 131"
   ],
   "metadata": {
    "execution": {
     "iopub.status.busy": "2022-10-18T13:36:22.815588Z",
     "iopub.execute_input": "2022-10-18T13:36:22.815947Z",
     "iopub.status.idle": "2022-10-18T13:36:22.828594Z",
     "shell.execute_reply.started": "2022-10-18T13:36:22.815915Z",
     "shell.execute_reply": "2022-10-18T13:36:22.827259Z"
    },
    "trusted": true
   },
   "execution_count": 28,
   "outputs": []
  },
  {
   "cell_type": "markdown",
   "source": [
    "Создаем источники данных для тренировки и валидации сети"
   ],
   "metadata": {}
  },
  {
   "cell_type": "code",
   "source": [
    "train_datagen = ImageDataGenerator(rescale=1.0 / 255, shear_range=0.3, horizontal_flip=True, zoom_range=0.3)\n",
    "test_datagen = ImageDataGenerator(rescale=1.0 / 255)\n",
    "\n",
    "train_generator = train_datagen.flow_from_directory(train_path,\n",
    "                                                    target_size=shape_of_image[:2],\n",
    "                                                    batch_size=32,\n",
    "                                                    color_mode='rgb',\n",
    "                                                    class_mode='categorical')\n",
    "test_generator = test_datagen.flow_from_directory(test_path,\n",
    "                                                  target_size=shape_of_image[:2],\n",
    "                                                  batch_size=32,\n",
    "                                                  color_mode='rgb',\n",
    "                                                  class_mode='categorical')"
   ],
   "metadata": {
    "execution": {
     "iopub.status.busy": "2022-10-18T13:36:22.831404Z",
     "iopub.execute_input": "2022-10-18T13:36:22.831808Z",
     "iopub.status.idle": "2022-10-18T13:36:25.971950Z",
     "shell.execute_reply.started": "2022-10-18T13:36:22.831775Z",
     "shell.execute_reply": "2022-10-18T13:36:25.970541Z"
    },
    "trusted": true
   },
   "execution_count": 29,
   "outputs": [
    {
     "name": "stdout",
     "text": "Found 67692 images belonging to 131 classes.\nFound 22688 images belonging to 131 classes.\n",
     "output_type": "stream"
    }
   ]
  },
  {
   "cell_type": "markdown",
   "source": [
    "Создаем CNN и натраиваем ее"
   ],
   "metadata": {}
  },
  {
   "cell_type": "code",
   "source": [
    "def recall_m(y_true, y_pred):\n",
    "    true_positives = K.sum(K.round(K.clip(y_true * y_pred, 0, 1)))\n",
    "    possible_positives = K.sum(K.round(K.clip(y_true, 0, 1)))\n",
    "    recall = true_positives / (possible_positives + K.epsilon())\n",
    "    return recall\n",
    "\n",
    "\n",
    "def precision_m(y_true, y_pred):\n",
    "    true_positives = K.sum(K.round(K.clip(y_true * y_pred, 0, 1)))\n",
    "    predicted_positives = K.sum(K.round(K.clip(y_pred, 0, 1)))\n",
    "    precision = true_positives / (predicted_positives + K.epsilon())\n",
    "    return precision\n",
    "\n",
    "\n",
    "def f1_m(y_true, y_pred):\n",
    "    precision = precision_m(y_true, y_pred)\n",
    "    recall = recall_m(y_true, y_pred)\n",
    "    return 2 * ((precision * recall) / (precision + recall + K.epsilon()))\n",
    "\n",
    "\n",
    "model = Sequential()\n",
    "model.add(Conv2D(32,(3,3),activation = 'relu', input_shape = shape_of_image))\n",
    "model.add(MaxPooling2D())\n",
    "\n",
    "model.add(Conv2D(32,(3,3),activation = 'relu', input_shape = shape_of_image))\n",
    "model.add(MaxPooling2D())\n",
    "\n",
    "model.add(Conv2D(64,(3,3),activation = 'relu', input_shape = shape_of_image))\n",
    "model.add(MaxPooling2D())\n",
    "\n",
    "model.add(Flatten())\n",
    "model.add(Dense(1024,activation='relu'))\n",
    "\n",
    "model.add(Dropout(0.5))\n",
    "model.add(Dense(number_of_class,activation = 'softmax'))\n",
    "\n",
    "model.compile(loss = 'categorical_crossentropy',\n",
    "              optimizer = 'rmsprop',\n",
    "              metrics = ['acc',f1_m,precision_m, recall_m])"
   ],
   "metadata": {
    "execution": {
     "iopub.status.busy": "2022-10-18T13:36:43.939641Z",
     "iopub.execute_input": "2022-10-18T13:36:43.940051Z",
     "iopub.status.idle": "2022-10-18T13:36:44.054615Z",
     "shell.execute_reply.started": "2022-10-18T13:36:43.940019Z",
     "shell.execute_reply": "2022-10-18T13:36:44.053664Z"
    },
    "trusted": true
   },
   "execution_count": 31,
   "outputs": []
  },
  {
   "cell_type": "markdown",
   "source": [
    "Обучаем модель"
   ],
   "metadata": {}
  },
  {
   "cell_type": "code",
   "source": [
    "batch_size = 32\n",
    "number_of_batch = 1600 // batch_size\n",
    "hist = model.fit_generator(\n",
    "    generator = train_generator,\n",
    "    steps_per_epoch = number_of_batch,\n",
    "    epochs = 100,\n",
    "    validation_data = test_generator,\n",
    "    validation_steps = 800 // batch_size\n",
    ")"
   ],
   "metadata": {
    "execution": {
     "iopub.status.busy": "2022-10-18T13:37:34.129182Z",
     "iopub.execute_input": "2022-10-18T13:37:34.129642Z",
     "iopub.status.idle": "2022-10-18T14:02:35.599543Z",
     "shell.execute_reply.started": "2022-10-18T13:37:34.129607Z",
     "shell.execute_reply": "2022-10-18T14:02:35.598087Z"
    },
    "trusted": true
   },
   "execution_count": 33,
   "outputs": [
    {
     "name": "stdout",
     "text": "Epoch 1/100\n50/50 [==============================] - 15s 301ms/step - loss: 3.3054 - acc: 0.1713 - f1_m: 0.0474 - precision_m: 0.4027 - recall_m: 0.0256 - val_loss: 2.3759 - val_acc: 0.3975 - val_f1_m: 0.1506 - val_precision_m: 0.9169 - val_recall_m: 0.0838\nEpoch 2/100\n50/50 [==============================] - 15s 296ms/step - loss: 2.6167 - acc: 0.2975 - f1_m: 0.1468 - precision_m: 0.5528 - recall_m: 0.0875 - val_loss: 2.3068 - val_acc: 0.3550 - val_f1_m: 0.1959 - val_precision_m: 0.7280 - val_recall_m: 0.1175\nEpoch 3/100\n50/50 [==============================] - 15s 296ms/step - loss: 2.1042 - acc: 0.3850 - f1_m: 0.2807 - precision_m: 0.6397 - recall_m: 0.1831 - val_loss: 1.4169 - val_acc: 0.6100 - val_f1_m: 0.4846 - val_precision_m: 0.8497 - val_recall_m: 0.3425\nEpoch 4/100\n50/50 [==============================] - 15s 291ms/step - loss: 1.8122 - acc: 0.4744 - f1_m: 0.3809 - precision_m: 0.6722 - recall_m: 0.2700 - val_loss: 1.7748 - val_acc: 0.4700 - val_f1_m: 0.4020 - val_precision_m: 0.6445 - val_recall_m: 0.2950\nEpoch 5/100\n50/50 [==============================] - 15s 295ms/step - loss: 1.5891 - acc: 0.5152 - f1_m: 0.4481 - precision_m: 0.6841 - recall_m: 0.3383 - val_loss: 1.1825 - val_acc: 0.6350 - val_f1_m: 0.5842 - val_precision_m: 0.7989 - val_recall_m: 0.4650\nEpoch 6/100\n50/50 [==============================] - 14s 289ms/step - loss: 1.3831 - acc: 0.5769 - f1_m: 0.5230 - precision_m: 0.7263 - recall_m: 0.4131 - val_loss: 1.0391 - val_acc: 0.7038 - val_f1_m: 0.6772 - val_precision_m: 0.8402 - val_recall_m: 0.5700\nEpoch 7/100\n50/50 [==============================] - 15s 291ms/step - loss: 1.2229 - acc: 0.6313 - f1_m: 0.5893 - precision_m: 0.7447 - recall_m: 0.4925 - val_loss: 0.9307 - val_acc: 0.6837 - val_f1_m: 0.6998 - val_precision_m: 0.8346 - val_recall_m: 0.6050\nEpoch 8/100\n50/50 [==============================] - 15s 291ms/step - loss: 1.0700 - acc: 0.6644 - f1_m: 0.6407 - precision_m: 0.7769 - recall_m: 0.5494 - val_loss: 0.8329 - val_acc: 0.7550 - val_f1_m: 0.7061 - val_precision_m: 0.8202 - val_recall_m: 0.6225\nEpoch 9/100\n50/50 [==============================] - 15s 292ms/step - loss: 0.9294 - acc: 0.7069 - f1_m: 0.6868 - precision_m: 0.7858 - recall_m: 0.6131 - val_loss: 0.9507 - val_acc: 0.6950 - val_f1_m: 0.6993 - val_precision_m: 0.7737 - val_recall_m: 0.6388\nEpoch 10/100\n50/50 [==============================] - 15s 295ms/step - loss: 0.9062 - acc: 0.7344 - f1_m: 0.7163 - precision_m: 0.8164 - recall_m: 0.6406 - val_loss: 0.9259 - val_acc: 0.7175 - val_f1_m: 0.7266 - val_precision_m: 0.7970 - val_recall_m: 0.6700\nEpoch 11/100\n50/50 [==============================] - 14s 287ms/step - loss: 0.8023 - acc: 0.7412 - f1_m: 0.7357 - precision_m: 0.8202 - recall_m: 0.6700 - val_loss: 0.9594 - val_acc: 0.7113 - val_f1_m: 0.7241 - val_precision_m: 0.7983 - val_recall_m: 0.6650\nEpoch 12/100\n50/50 [==============================] - 15s 288ms/step - loss: 0.7380 - acc: 0.7588 - f1_m: 0.7588 - precision_m: 0.8272 - recall_m: 0.7031 - val_loss: 0.4745 - val_acc: 0.8462 - val_f1_m: 0.8378 - val_precision_m: 0.8949 - val_recall_m: 0.7887\nEpoch 13/100\n50/50 [==============================] - 14s 283ms/step - loss: 0.7024 - acc: 0.7769 - f1_m: 0.7707 - precision_m: 0.8296 - recall_m: 0.7206 - val_loss: 0.4432 - val_acc: 0.8637 - val_f1_m: 0.8650 - val_precision_m: 0.8907 - val_recall_m: 0.8413\nEpoch 14/100\n50/50 [==============================] - 14s 287ms/step - loss: 0.6453 - acc: 0.7944 - f1_m: 0.7910 - precision_m: 0.8408 - recall_m: 0.7481 - val_loss: 0.3586 - val_acc: 0.8863 - val_f1_m: 0.8800 - val_precision_m: 0.9087 - val_recall_m: 0.8537\nEpoch 15/100\n50/50 [==============================] - 14s 282ms/step - loss: 0.5823 - acc: 0.8006 - f1_m: 0.8065 - precision_m: 0.8482 - recall_m: 0.7700 - val_loss: 0.7935 - val_acc: 0.7663 - val_f1_m: 0.7731 - val_precision_m: 0.8375 - val_recall_m: 0.7200\nEpoch 16/100\n50/50 [==============================] - 14s 279ms/step - loss: 0.6174 - acc: 0.8081 - f1_m: 0.8024 - precision_m: 0.8441 - recall_m: 0.7663 - val_loss: 0.3143 - val_acc: 0.9038 - val_f1_m: 0.8975 - val_precision_m: 0.9318 - val_recall_m: 0.8662\nEpoch 17/100\n50/50 [==============================] - 14s 278ms/step - loss: 0.5538 - acc: 0.8169 - f1_m: 0.8104 - precision_m: 0.8516 - recall_m: 0.7750 - val_loss: 0.6082 - val_acc: 0.8125 - val_f1_m: 0.8171 - val_precision_m: 0.8487 - val_recall_m: 0.7887\nEpoch 18/100\n50/50 [==============================] - 14s 280ms/step - loss: 0.4890 - acc: 0.8363 - f1_m: 0.8360 - precision_m: 0.8675 - recall_m: 0.8075 - val_loss: 0.3866 - val_acc: 0.8900 - val_f1_m: 0.8941 - val_precision_m: 0.9175 - val_recall_m: 0.8725\nEpoch 19/100\n50/50 [==============================] - 14s 284ms/step - loss: 0.4655 - acc: 0.8487 - f1_m: 0.8483 - precision_m: 0.8827 - recall_m: 0.8175 - val_loss: 0.3837 - val_acc: 0.8925 - val_f1_m: 0.8937 - val_precision_m: 0.9220 - val_recall_m: 0.8675\nEpoch 20/100\n50/50 [==============================] - 14s 279ms/step - loss: 0.4325 - acc: 0.8644 - f1_m: 0.8645 - precision_m: 0.8922 - recall_m: 0.8394 - val_loss: 0.4018 - val_acc: 0.8788 - val_f1_m: 0.8782 - val_precision_m: 0.9050 - val_recall_m: 0.8537\nEpoch 21/100\n50/50 [==============================] - 14s 272ms/step - loss: 0.4442 - acc: 0.8612 - f1_m: 0.8599 - precision_m: 0.8835 - recall_m: 0.8388 - val_loss: 0.3102 - val_acc: 0.9100 - val_f1_m: 0.9105 - val_precision_m: 0.9187 - val_recall_m: 0.9025\nEpoch 22/100\n50/50 [==============================] - 14s 284ms/step - loss: 0.4210 - acc: 0.8700 - f1_m: 0.8701 - precision_m: 0.8928 - recall_m: 0.8494 - val_loss: 0.3800 - val_acc: 0.8813 - val_f1_m: 0.8844 - val_precision_m: 0.8983 - val_recall_m: 0.8712\nEpoch 23/100\n50/50 [==============================] - 14s 270ms/step - loss: 0.3735 - acc: 0.8806 - f1_m: 0.8785 - precision_m: 0.9027 - recall_m: 0.8562 - val_loss: 0.3566 - val_acc: 0.8863 - val_f1_m: 0.8970 - val_precision_m: 0.9181 - val_recall_m: 0.8775\nEpoch 24/100\n50/50 [==============================] - 14s 278ms/step - loss: 0.3480 - acc: 0.8900 - f1_m: 0.8926 - precision_m: 0.9129 - recall_m: 0.8737 - val_loss: 0.2820 - val_acc: 0.9175 - val_f1_m: 0.9173 - val_precision_m: 0.9331 - val_recall_m: 0.9025\nEpoch 25/100\n50/50 [==============================] - 14s 275ms/step - loss: 0.3735 - acc: 0.8788 - f1_m: 0.8786 - precision_m: 0.8988 - recall_m: 0.8600 - val_loss: 0.1850 - val_acc: 0.9438 - val_f1_m: 0.9492 - val_precision_m: 0.9603 - val_recall_m: 0.9388\nEpoch 26/100\n50/50 [==============================] - 16s 318ms/step - loss: 0.3729 - acc: 0.8800 - f1_m: 0.8813 - precision_m: 0.9012 - recall_m: 0.8631 - val_loss: 0.2003 - val_acc: 0.9438 - val_f1_m: 0.9383 - val_precision_m: 0.9538 - val_recall_m: 0.9237\nEpoch 27/100\n50/50 [==============================] - 16s 312ms/step - loss: 0.3270 - acc: 0.8956 - f1_m: 0.8943 - precision_m: 0.9096 - recall_m: 0.8800 - val_loss: 0.2250 - val_acc: 0.9337 - val_f1_m: 0.9354 - val_precision_m: 0.9465 - val_recall_m: 0.9250\nEpoch 28/100\n50/50 [==============================] - 16s 320ms/step - loss: 0.3426 - acc: 0.8888 - f1_m: 0.8888 - precision_m: 0.9034 - recall_m: 0.8750 - val_loss: 0.2106 - val_acc: 0.9287 - val_f1_m: 0.9292 - val_precision_m: 0.9404 - val_recall_m: 0.9187\nEpoch 29/100\n50/50 [==============================] - 15s 304ms/step - loss: 0.2764 - acc: 0.9069 - f1_m: 0.9083 - precision_m: 0.9211 - recall_m: 0.8963 - val_loss: 0.2355 - val_acc: 0.9250 - val_f1_m: 0.9303 - val_precision_m: 0.9426 - val_recall_m: 0.9187\nEpoch 30/100\n50/50 [==============================] - 16s 324ms/step - loss: 0.2815 - acc: 0.9094 - f1_m: 0.9105 - precision_m: 0.9223 - recall_m: 0.8994 - val_loss: 0.2114 - val_acc: 0.9488 - val_f1_m: 0.9476 - val_precision_m: 0.9556 - val_recall_m: 0.9400\nEpoch 31/100\n50/50 [==============================] - 16s 312ms/step - loss: 0.2656 - acc: 0.9169 - f1_m: 0.9184 - precision_m: 0.9286 - recall_m: 0.9087 - val_loss: 0.4587 - val_acc: 0.8850 - val_f1_m: 0.8875 - val_precision_m: 0.8954 - val_recall_m: 0.8800\nEpoch 32/100\n50/50 [==============================] - 15s 300ms/step - loss: 0.2610 - acc: 0.9144 - f1_m: 0.9140 - precision_m: 0.9249 - recall_m: 0.9038 - val_loss: 0.2789 - val_acc: 0.9325 - val_f1_m: 0.9372 - val_precision_m: 0.9434 - val_recall_m: 0.9312\nEpoch 33/100\n50/50 [==============================] - 15s 295ms/step - loss: 0.2811 - acc: 0.9075 - f1_m: 0.9044 - precision_m: 0.9143 - recall_m: 0.8950 - val_loss: 0.1752 - val_acc: 0.9425 - val_f1_m: 0.9376 - val_precision_m: 0.9498 - val_recall_m: 0.9262\nEpoch 34/100\n50/50 [==============================] - 15s 294ms/step - loss: 0.2740 - acc: 0.9137 - f1_m: 0.9109 - precision_m: 0.9232 - recall_m: 0.8994 - val_loss: 0.2093 - val_acc: 0.9337 - val_f1_m: 0.9341 - val_precision_m: 0.9465 - val_recall_m: 0.9225\nEpoch 35/100\n50/50 [==============================] - 15s 293ms/step - loss: 0.2940 - acc: 0.9081 - f1_m: 0.9088 - precision_m: 0.9175 - recall_m: 0.9006 - val_loss: 0.1915 - val_acc: 0.9438 - val_f1_m: 0.9492 - val_precision_m: 0.9614 - val_recall_m: 0.9375\nEpoch 36/100\n50/50 [==============================] - 15s 298ms/step - loss: 0.2336 - acc: 0.9237 - f1_m: 0.9249 - precision_m: 0.9307 - recall_m: 0.9194 - val_loss: 0.2347 - val_acc: 0.9475 - val_f1_m: 0.9479 - val_precision_m: 0.9510 - val_recall_m: 0.9450\nEpoch 37/100\n50/50 [==============================] - 15s 297ms/step - loss: 0.2644 - acc: 0.9225 - f1_m: 0.9210 - precision_m: 0.9299 - recall_m: 0.9125 - val_loss: 0.2656 - val_acc: 0.9287 - val_f1_m: 0.9319 - val_precision_m: 0.9390 - val_recall_m: 0.9250\nEpoch 38/100\n50/50 [==============================] - 15s 295ms/step - loss: 0.2539 - acc: 0.9137 - f1_m: 0.9151 - precision_m: 0.9231 - recall_m: 0.9075 - val_loss: 0.1654 - val_acc: 0.9525 - val_f1_m: 0.9528 - val_precision_m: 0.9582 - val_recall_m: 0.9475\nEpoch 39/100\n50/50 [==============================] - 15s 297ms/step - loss: 0.1987 - acc: 0.9369 - f1_m: 0.9366 - precision_m: 0.9436 - recall_m: 0.9300 - val_loss: 0.3498 - val_acc: 0.9025 - val_f1_m: 0.9043 - val_precision_m: 0.9088 - val_recall_m: 0.9000\nEpoch 40/100\n50/50 [==============================] - 15s 291ms/step - loss: 0.2351 - acc: 0.9206 - f1_m: 0.9202 - precision_m: 0.9244 - recall_m: 0.9162 - val_loss: 0.2575 - val_acc: 0.9362 - val_f1_m: 0.9334 - val_precision_m: 0.9381 - val_recall_m: 0.9287\nEpoch 41/100\n50/50 [==============================] - 14s 280ms/step - loss: 0.2242 - acc: 0.9306 - f1_m: 0.9303 - precision_m: 0.9359 - recall_m: 0.9250 - val_loss: 0.1320 - val_acc: 0.9613 - val_f1_m: 0.9599 - val_precision_m: 0.9636 - val_recall_m: 0.9563\nEpoch 42/100\n50/50 [==============================] - 14s 281ms/step - loss: 0.1987 - acc: 0.9413 - f1_m: 0.9426 - precision_m: 0.9480 - recall_m: 0.9375 - val_loss: 0.3811 - val_acc: 0.9062 - val_f1_m: 0.9078 - val_precision_m: 0.9147 - val_recall_m: 0.9013\nEpoch 43/100\n50/50 [==============================] - 14s 273ms/step - loss: 0.2325 - acc: 0.9262 - f1_m: 0.9264 - precision_m: 0.9337 - recall_m: 0.9194 - val_loss: 0.1711 - val_acc: 0.9463 - val_f1_m: 0.9478 - val_precision_m: 0.9520 - val_recall_m: 0.9438\nEpoch 44/100\n50/50 [==============================] - 14s 278ms/step - loss: 0.2059 - acc: 0.9381 - f1_m: 0.9393 - precision_m: 0.9444 - recall_m: 0.9344 - val_loss: 0.1309 - val_acc: 0.9575 - val_f1_m: 0.9598 - val_precision_m: 0.9622 - val_recall_m: 0.9575\nEpoch 45/100\n50/50 [==============================] - 14s 270ms/step - loss: 0.2261 - acc: 0.9356 - f1_m: 0.9357 - precision_m: 0.9423 - recall_m: 0.9294 - val_loss: 0.2631 - val_acc: 0.9300 - val_f1_m: 0.9288 - val_precision_m: 0.9354 - val_recall_m: 0.9225\nEpoch 46/100\n50/50 [==============================] - 14s 278ms/step - loss: 0.2077 - acc: 0.9388 - f1_m: 0.9381 - precision_m: 0.9446 - recall_m: 0.9319 - val_loss: 0.2256 - val_acc: 0.9337 - val_f1_m: 0.9381 - val_precision_m: 0.9478 - val_recall_m: 0.9287\nEpoch 47/100\n50/50 [==============================] - 14s 271ms/step - loss: 0.1992 - acc: 0.9356 - f1_m: 0.9349 - precision_m: 0.9380 - recall_m: 0.9319 - val_loss: 0.1762 - val_acc: 0.9488 - val_f1_m: 0.9504 - val_precision_m: 0.9559 - val_recall_m: 0.9450\nEpoch 48/100\n50/50 [==============================] - 14s 276ms/step - loss: 0.1958 - acc: 0.9425 - f1_m: 0.9438 - precision_m: 0.9477 - recall_m: 0.9400 - val_loss: 0.1696 - val_acc: 0.9513 - val_f1_m: 0.9516 - val_precision_m: 0.9547 - val_recall_m: 0.9488\nEpoch 49/100\n50/50 [==============================] - 14s 275ms/step - loss: 0.1683 - acc: 0.9475 - f1_m: 0.9455 - precision_m: 0.9525 - recall_m: 0.9388 - val_loss: 0.2346 - val_acc: 0.9413 - val_f1_m: 0.9414 - val_precision_m: 0.9468 - val_recall_m: 0.9362\nEpoch 50/100\n50/50 [==============================] - 14s 275ms/step - loss: 0.2382 - acc: 0.9281 - f1_m: 0.9288 - precision_m: 0.9354 - recall_m: 0.9225 - val_loss: 0.1664 - val_acc: 0.9475 - val_f1_m: 0.9480 - val_precision_m: 0.9498 - val_recall_m: 0.9463\nEpoch 51/100\n50/50 [==============================] - 14s 279ms/step - loss: 0.1635 - acc: 0.9525 - f1_m: 0.9534 - precision_m: 0.9570 - recall_m: 0.9500 - val_loss: 0.3649 - val_acc: 0.9050 - val_f1_m: 0.9054 - val_precision_m: 0.9124 - val_recall_m: 0.8988\nEpoch 52/100\n50/50 [==============================] - 14s 274ms/step - loss: 0.1906 - acc: 0.9362 - f1_m: 0.9382 - precision_m: 0.9443 - recall_m: 0.9325 - val_loss: 2.0581 - val_acc: 0.7025 - val_f1_m: 0.7059 - val_precision_m: 0.7175 - val_recall_m: 0.6950\nEpoch 53/100\n50/50 [==============================] - 14s 283ms/step - loss: 0.2150 - acc: 0.9444 - f1_m: 0.9456 - precision_m: 0.9488 - recall_m: 0.9425 - val_loss: 0.3029 - val_acc: 0.9225 - val_f1_m: 0.9193 - val_precision_m: 0.9238 - val_recall_m: 0.9150\nEpoch 54/100\n50/50 [==============================] - 14s 271ms/step - loss: 0.1888 - acc: 0.9406 - f1_m: 0.9408 - precision_m: 0.9462 - recall_m: 0.9356 - val_loss: 0.1760 - val_acc: 0.9438 - val_f1_m: 0.9453 - val_precision_m: 0.9495 - val_recall_m: 0.9413\nEpoch 55/100\n50/50 [==============================] - 14s 278ms/step - loss: 0.1553 - acc: 0.9488 - f1_m: 0.9489 - precision_m: 0.9516 - recall_m: 0.9463 - val_loss: 0.2719 - val_acc: 0.9137 - val_f1_m: 0.9168 - val_precision_m: 0.9252 - val_recall_m: 0.9087\nEpoch 56/100\n50/50 [==============================] - 13s 267ms/step - loss: 0.1994 - acc: 0.9406 - f1_m: 0.9404 - precision_m: 0.9434 - recall_m: 0.9375 - val_loss: 0.3483 - val_acc: 0.9275 - val_f1_m: 0.9298 - val_precision_m: 0.9321 - val_recall_m: 0.9275\nEpoch 57/100\n50/50 [==============================] - 14s 281ms/step - loss: 0.1760 - acc: 0.9438 - f1_m: 0.9455 - precision_m: 0.9479 - recall_m: 0.9431 - val_loss: 0.1232 - val_acc: 0.9750 - val_f1_m: 0.9737 - val_precision_m: 0.9749 - val_recall_m: 0.9725\nEpoch 58/100\n50/50 [==============================] - 13s 269ms/step - loss: 0.1922 - acc: 0.9394 - f1_m: 0.9395 - precision_m: 0.9448 - recall_m: 0.9344 - val_loss: 0.7547 - val_acc: 0.8288 - val_f1_m: 0.8288 - val_precision_m: 0.8342 - val_recall_m: 0.8238\nEpoch 59/100\n50/50 [==============================] - 14s 272ms/step - loss: 0.1812 - acc: 0.9500 - f1_m: 0.9497 - precision_m: 0.9539 - recall_m: 0.9456 - val_loss: 0.2549 - val_acc: 0.9237 - val_f1_m: 0.9252 - val_precision_m: 0.9307 - val_recall_m: 0.9200\nEpoch 60/100\n50/50 [==============================] - 13s 265ms/step - loss: 0.1490 - acc: 0.9556 - f1_m: 0.9569 - precision_m: 0.9608 - recall_m: 0.9531 - val_loss: 0.1943 - val_acc: 0.9613 - val_f1_m: 0.9617 - val_precision_m: 0.9648 - val_recall_m: 0.9588\nEpoch 61/100\n50/50 [==============================] - 13s 269ms/step - loss: 0.1915 - acc: 0.9469 - f1_m: 0.9478 - precision_m: 0.9520 - recall_m: 0.9438 - val_loss: 0.2971 - val_acc: 0.9262 - val_f1_m: 0.9295 - val_precision_m: 0.9341 - val_recall_m: 0.9250\nEpoch 62/100\n50/50 [==============================] - 14s 272ms/step - loss: 0.1919 - acc: 0.9513 - f1_m: 0.9525 - precision_m: 0.9565 - recall_m: 0.9488 - val_loss: 0.1643 - val_acc: 0.9663 - val_f1_m: 0.9685 - val_precision_m: 0.9734 - val_recall_m: 0.9638\nEpoch 63/100\n50/50 [==============================] - 13s 269ms/step - loss: 0.1608 - acc: 0.9475 - f1_m: 0.9485 - precision_m: 0.9502 - recall_m: 0.9469 - val_loss: 0.3701 - val_acc: 0.9325 - val_f1_m: 0.9324 - val_precision_m: 0.9335 - val_recall_m: 0.9312\nEpoch 64/100\n50/50 [==============================] - 14s 272ms/step - loss: 0.1358 - acc: 0.9588 - f1_m: 0.9582 - precision_m: 0.9603 - recall_m: 0.9563 - val_loss: 0.1673 - val_acc: 0.9513 - val_f1_m: 0.9509 - val_precision_m: 0.9559 - val_recall_m: 0.9463\nEpoch 65/100\n50/50 [==============================] - 13s 267ms/step - loss: 0.2051 - acc: 0.9456 - f1_m: 0.9454 - precision_m: 0.9490 - recall_m: 0.9419 - val_loss: 0.2990 - val_acc: 0.9350 - val_f1_m: 0.9360 - val_precision_m: 0.9383 - val_recall_m: 0.9337\nEpoch 66/100\n50/50 [==============================] - 14s 273ms/step - loss: 0.1435 - acc: 0.9588 - f1_m: 0.9590 - precision_m: 0.9611 - recall_m: 0.9569 - val_loss: 0.1658 - val_acc: 0.9638 - val_f1_m: 0.9649 - val_precision_m: 0.9661 - val_recall_m: 0.9638\nEpoch 67/100\n50/50 [==============================] - 14s 272ms/step - loss: 0.2360 - acc: 0.9438 - f1_m: 0.9446 - precision_m: 0.9481 - recall_m: 0.9413 - val_loss: 0.1217 - val_acc: 0.9613 - val_f1_m: 0.9642 - val_precision_m: 0.9685 - val_recall_m: 0.9600\nEpoch 68/100\n50/50 [==============================] - 14s 277ms/step - loss: 0.1694 - acc: 0.9500 - f1_m: 0.9514 - precision_m: 0.9535 - recall_m: 0.9494 - val_loss: 0.1314 - val_acc: 0.9663 - val_f1_m: 0.9679 - val_precision_m: 0.9709 - val_recall_m: 0.9650\nEpoch 69/100\n50/50 [==============================] - 14s 270ms/step - loss: 0.1803 - acc: 0.9488 - f1_m: 0.9483 - precision_m: 0.9525 - recall_m: 0.9444 - val_loss: 0.2000 - val_acc: 0.9538 - val_f1_m: 0.9559 - val_precision_m: 0.9594 - val_recall_m: 0.9525\nEpoch 70/100\n50/50 [==============================] - 14s 280ms/step - loss: 0.1505 - acc: 0.9619 - f1_m: 0.9622 - precision_m: 0.9652 - recall_m: 0.9594 - val_loss: 0.1895 - val_acc: 0.9513 - val_f1_m: 0.9546 - val_precision_m: 0.9619 - val_recall_m: 0.9475\nEpoch 71/100\n50/50 [==============================] - 13s 268ms/step - loss: 0.1846 - acc: 0.9525 - f1_m: 0.9538 - precision_m: 0.9577 - recall_m: 0.9500 - val_loss: 0.0696 - val_acc: 0.9750 - val_f1_m: 0.9743 - val_precision_m: 0.9761 - val_recall_m: 0.9725\nEpoch 72/100\n50/50 [==============================] - 14s 275ms/step - loss: 0.1152 - acc: 0.9619 - f1_m: 0.9627 - precision_m: 0.9655 - recall_m: 0.9600 - val_loss: 0.3321 - val_acc: 0.9287 - val_f1_m: 0.9292 - val_precision_m: 0.9310 - val_recall_m: 0.9275\nEpoch 73/100\n50/50 [==============================] - 14s 270ms/step - loss: 0.1785 - acc: 0.9456 - f1_m: 0.9464 - precision_m: 0.9486 - recall_m: 0.9444 - val_loss: 0.2139 - val_acc: 0.9450 - val_f1_m: 0.9477 - val_precision_m: 0.9544 - val_recall_m: 0.9413\nEpoch 74/100\n50/50 [==============================] - 14s 282ms/step - loss: 0.1317 - acc: 0.9588 - f1_m: 0.9601 - precision_m: 0.9628 - recall_m: 0.9575 - val_loss: 0.2707 - val_acc: 0.9625 - val_f1_m: 0.9618 - val_precision_m: 0.9623 - val_recall_m: 0.9613\nEpoch 75/100\n50/50 [==============================] - 13s 268ms/step - loss: 0.1913 - acc: 0.9513 - f1_m: 0.9519 - precision_m: 0.9545 - recall_m: 0.9494 - val_loss: 0.2609 - val_acc: 0.9613 - val_f1_m: 0.9611 - val_precision_m: 0.9635 - val_recall_m: 0.9588\nEpoch 76/100\n50/50 [==============================] - 13s 269ms/step - loss: 0.1311 - acc: 0.9525 - f1_m: 0.9522 - precision_m: 0.9558 - recall_m: 0.9488 - val_loss: 0.2163 - val_acc: 0.9375 - val_f1_m: 0.9391 - val_precision_m: 0.9421 - val_recall_m: 0.9362\nEpoch 77/100\n50/50 [==============================] - 14s 277ms/step - loss: 0.1254 - acc: 0.9656 - f1_m: 0.9652 - precision_m: 0.9668 - recall_m: 0.9638 - val_loss: 0.1496 - val_acc: 0.9513 - val_f1_m: 0.9511 - val_precision_m: 0.9548 - val_recall_m: 0.9475\nEpoch 78/100\n50/50 [==============================] - 14s 271ms/step - loss: 0.1384 - acc: 0.9594 - f1_m: 0.9606 - precision_m: 0.9618 - recall_m: 0.9594 - val_loss: 0.1536 - val_acc: 0.9663 - val_f1_m: 0.9656 - val_precision_m: 0.9662 - val_recall_m: 0.9650\nEpoch 79/100\n50/50 [==============================] - 14s 275ms/step - loss: 0.1806 - acc: 0.9494 - f1_m: 0.9496 - precision_m: 0.9511 - recall_m: 0.9481 - val_loss: 0.1111 - val_acc: 0.9675 - val_f1_m: 0.9667 - val_precision_m: 0.9698 - val_recall_m: 0.9638\nEpoch 80/100\n50/50 [==============================] - 13s 269ms/step - loss: 0.1433 - acc: 0.9638 - f1_m: 0.9629 - precision_m: 0.9667 - recall_m: 0.9594 - val_loss: 0.2116 - val_acc: 0.9425 - val_f1_m: 0.9449 - val_precision_m: 0.9474 - val_recall_m: 0.9425\nEpoch 81/100\n50/50 [==============================] - 14s 275ms/step - loss: 0.1489 - acc: 0.9563 - f1_m: 0.9570 - precision_m: 0.9591 - recall_m: 0.9550 - val_loss: 0.3009 - val_acc: 0.9062 - val_f1_m: 0.9084 - val_precision_m: 0.9119 - val_recall_m: 0.9050\nEpoch 82/100\n50/50 [==============================] - 13s 267ms/step - loss: 0.1428 - acc: 0.9613 - f1_m: 0.9617 - precision_m: 0.9635 - recall_m: 0.9600 - val_loss: 0.1385 - val_acc: 0.9650 - val_f1_m: 0.9655 - val_precision_m: 0.9686 - val_recall_m: 0.9625\nEpoch 83/100\n50/50 [==============================] - 14s 279ms/step - loss: 0.1366 - acc: 0.9600 - f1_m: 0.9586 - precision_m: 0.9617 - recall_m: 0.9556 - val_loss: 0.3132 - val_acc: 0.9300 - val_f1_m: 0.9340 - val_precision_m: 0.9395 - val_recall_m: 0.9287\nEpoch 84/100\n50/50 [==============================] - 13s 266ms/step - loss: 0.1276 - acc: 0.9581 - f1_m: 0.9592 - precision_m: 0.9617 - recall_m: 0.9569 - val_loss: 0.1614 - val_acc: 0.9588 - val_f1_m: 0.9618 - val_precision_m: 0.9649 - val_recall_m: 0.9588\nEpoch 85/100\n50/50 [==============================] - 13s 268ms/step - loss: 0.1275 - acc: 0.9619 - f1_m: 0.9618 - precision_m: 0.9630 - recall_m: 0.9606 - val_loss: 0.1506 - val_acc: 0.9613 - val_f1_m: 0.9625 - val_precision_m: 0.9637 - val_recall_m: 0.9613\nEpoch 86/100\n50/50 [==============================] - 13s 268ms/step - loss: 0.1520 - acc: 0.9613 - f1_m: 0.9609 - precision_m: 0.9618 - recall_m: 0.9600 - val_loss: 0.1873 - val_acc: 0.9475 - val_f1_m: 0.9481 - val_precision_m: 0.9499 - val_recall_m: 0.9463\nEpoch 87/100\n50/50 [==============================] - 14s 269ms/step - loss: 0.1493 - acc: 0.9613 - f1_m: 0.9601 - precision_m: 0.9622 - recall_m: 0.9581 - val_loss: 0.0799 - val_acc: 0.9800 - val_f1_m: 0.9793 - val_precision_m: 0.9812 - val_recall_m: 0.9775\nEpoch 88/100\n50/50 [==============================] - 14s 275ms/step - loss: 0.1602 - acc: 0.9619 - f1_m: 0.9625 - precision_m: 0.9637 - recall_m: 0.9613 - val_loss: 0.1753 - val_acc: 0.9600 - val_f1_m: 0.9617 - val_precision_m: 0.9635 - val_recall_m: 0.9600\nEpoch 89/100\n50/50 [==============================] - 14s 280ms/step - loss: 0.1256 - acc: 0.9625 - f1_m: 0.9636 - precision_m: 0.9660 - recall_m: 0.9613 - val_loss: 0.1855 - val_acc: 0.9488 - val_f1_m: 0.9499 - val_precision_m: 0.9511 - val_recall_m: 0.9488\nEpoch 90/100\n50/50 [==============================] - 14s 271ms/step - loss: 0.1393 - acc: 0.9613 - f1_m: 0.9614 - precision_m: 0.9642 - recall_m: 0.9588 - val_loss: 0.1929 - val_acc: 0.9563 - val_f1_m: 0.9573 - val_precision_m: 0.9622 - val_recall_m: 0.9525\nEpoch 91/100\n50/50 [==============================] - 14s 276ms/step - loss: 0.1196 - acc: 0.9681 - f1_m: 0.9684 - precision_m: 0.9693 - recall_m: 0.9675 - val_loss: 0.2955 - val_acc: 0.9513 - val_f1_m: 0.9529 - val_precision_m: 0.9560 - val_recall_m: 0.9500\nEpoch 92/100\n50/50 [==============================] - 14s 270ms/step - loss: 0.1158 - acc: 0.9681 - f1_m: 0.9680 - precision_m: 0.9698 - recall_m: 0.9663 - val_loss: 0.2530 - val_acc: 0.9312 - val_f1_m: 0.9335 - val_precision_m: 0.9359 - val_recall_m: 0.9312\nEpoch 93/100\n50/50 [==============================] - 14s 277ms/step - loss: 0.1068 - acc: 0.9669 - f1_m: 0.9675 - precision_m: 0.9687 - recall_m: 0.9663 - val_loss: 0.1989 - val_acc: 0.9638 - val_f1_m: 0.9636 - val_precision_m: 0.9661 - val_recall_m: 0.9613\nEpoch 94/100\n50/50 [==============================] - 14s 274ms/step - loss: 0.1468 - acc: 0.9619 - f1_m: 0.9621 - precision_m: 0.9630 - recall_m: 0.9613 - val_loss: 0.1821 - val_acc: 0.9563 - val_f1_m: 0.9568 - val_precision_m: 0.9575 - val_recall_m: 0.9563\nEpoch 95/100\n50/50 [==============================] - 14s 280ms/step - loss: 0.1337 - acc: 0.9575 - f1_m: 0.9577 - precision_m: 0.9598 - recall_m: 0.9556 - val_loss: 0.1522 - val_acc: 0.9613 - val_f1_m: 0.9617 - val_precision_m: 0.9648 - val_recall_m: 0.9588\nEpoch 96/100\n50/50 [==============================] - 14s 272ms/step - loss: 0.1348 - acc: 0.9600 - f1_m: 0.9595 - precision_m: 0.9610 - recall_m: 0.9581 - val_loss: 0.0909 - val_acc: 0.9700 - val_f1_m: 0.9681 - val_precision_m: 0.9700 - val_recall_m: 0.9663\nEpoch 97/100\n50/50 [==============================] - 14s 281ms/step - loss: 0.1338 - acc: 0.9700 - f1_m: 0.9702 - precision_m: 0.9711 - recall_m: 0.9694 - val_loss: 0.1608 - val_acc: 0.9613 - val_f1_m: 0.9618 - val_precision_m: 0.9649 - val_recall_m: 0.9588\nEpoch 98/100\n50/50 [==============================] - 14s 281ms/step - loss: 0.1278 - acc: 0.9631 - f1_m: 0.9639 - precision_m: 0.9667 - recall_m: 0.9613 - val_loss: 0.3268 - val_acc: 0.9337 - val_f1_m: 0.9357 - val_precision_m: 0.9418 - val_recall_m: 0.9300\nEpoch 99/100\n50/50 [==============================] - 14s 284ms/step - loss: 0.1193 - acc: 0.9619 - f1_m: 0.9624 - precision_m: 0.9636 - recall_m: 0.9613 - val_loss: 0.3434 - val_acc: 0.9375 - val_f1_m: 0.9379 - val_precision_m: 0.9397 - val_recall_m: 0.9362\nEpoch 100/100\n50/50 [==============================] - 15s 296ms/step - loss: 0.1888 - acc: 0.9556 - f1_m: 0.9546 - precision_m: 0.9555 - recall_m: 0.9538 - val_loss: 0.1504 - val_acc: 0.9700 - val_f1_m: 0.9687 - val_precision_m: 0.9700 - val_recall_m: 0.9675\n",
     "output_type": "stream"
    }
   ]
  },
  {
   "cell_type": "markdown",
   "source": [
    "Сохраняем веса"
   ],
   "metadata": {}
  },
  {
   "cell_type": "code",
   "source": [
    "model.save_weights(\"trialv3.h5\")"
   ],
   "metadata": {
    "execution": {
     "iopub.status.busy": "2022-10-18T14:02:35.601759Z",
     "iopub.execute_input": "2022-10-18T14:02:35.602249Z",
     "iopub.status.idle": "2022-10-18T14:02:35.663583Z",
     "shell.execute_reply.started": "2022-10-18T14:02:35.602184Z",
     "shell.execute_reply": "2022-10-18T14:02:35.661976Z"
    },
    "trusted": true,
    "pycharm": {
     "name": "#%%\n"
    }
   },
   "execution_count": 34,
   "outputs": []
  }
 ]
}