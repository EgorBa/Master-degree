{
 "cells": [
  {
   "cell_type": "markdown",
   "source": [
    "## Лабораторная работа №1. Мета-признаки"
   ],
   "metadata": {
    "collapsed": false
   }
  },
  {
   "cell_type": "code",
   "execution_count": 7,
   "outputs": [],
   "source": [
    "import numpy as np\n",
    "import pandas as pd\n",
    "\n",
    "all_data = pd.read_csv('OpenML/data.csv')\n",
    "list_with_class_problems = list()\n",
    "for index, target in enumerate(all_data['target']):\n",
    "    if target == 'class' or target == 'binaryClass' or target == 'Class':\n",
    "        list_with_class_problems.append((all_data['id'][index], target))"
   ],
   "metadata": {
    "collapsed": false,
    "pycharm": {
     "name": "#%%\n"
    }
   }
  },
  {
   "cell_type": "markdown",
   "source": [
    "### Считываем данные"
   ],
   "metadata": {
    "collapsed": false
   }
  },
  {
   "cell_type": "code",
   "execution_count": 8,
   "outputs": [
    {
     "name": "stdout",
     "output_type": "stream",
     "text": [
      "Available sata size : 356\n"
     ]
    }
   ],
   "source": [
    "from scipy.io import arff\n",
    "\n",
    "data = list()\n",
    "for dt in list_with_class_problems:\n",
    "    fileName = str(dt[0]) + '.arff'\n",
    "    try:\n",
    "        data.append((pd.DataFrame(arff.loadarff(open('OpenML/data/' + fileName))[0]), dt[1]))\n",
    "    except:\n",
    "        continue\n",
    "\n",
    "print(\"Available sata size : \" + str(len(data)))"
   ],
   "metadata": {
    "collapsed": false,
    "pycharm": {
     "name": "#%%\n"
    }
   }
  },
  {
   "cell_type": "markdown",
   "source": [
    "### Считаем базовые мета-признаки"
   ],
   "metadata": {
    "collapsed": false
   }
  },
  {
   "cell_type": "code",
   "execution_count": 9,
   "outputs": [],
   "source": [
    "from pandas.api.types import is_numeric_dtype\n",
    "\n",
    "\n",
    "def compare_lists(list1, list2):\n",
    "    if len(list1) != len(list2):\n",
    "        return False\n",
    "    for i in range(len(list1)):\n",
    "        if list2[i] != list1[i]:\n",
    "            return False\n",
    "    return True\n",
    "\n",
    "\n",
    "def get_numeric_features_count(df, target):\n",
    "    columns_count = len(df.iloc[0])\n",
    "    count = 0\n",
    "    for index in range(columns_count):\n",
    "        if is_numeric_dtype(df.iloc[:, index]) and not compare_lists(df.iloc[:, index], df.loc[:, target]):\n",
    "            count += 1\n",
    "    return count\n",
    "\n",
    "\n",
    "def get_features_count(df):\n",
    "    return len(df.iloc[0]) - 1\n",
    "\n",
    "\n",
    "def get_classes_count(df, target):\n",
    "    return len(set(df.loc[:, target]))\n",
    "\n",
    "\n",
    "def get_objects_count(df):\n",
    "    return len(df.iloc[:, -1])\n",
    "\n",
    "\n",
    "base_meta_features = {}\n",
    "for (index, (d, target)) in enumerate(data):\n",
    "    base_meta_features[index] = [\n",
    "        get_objects_count(d),\n",
    "        get_classes_count(d, target),\n",
    "        get_features_count(d),\n",
    "        get_features_count(d) - get_numeric_features_count(d, target)\n",
    "    ]"
   ],
   "metadata": {
    "collapsed": false,
    "pycharm": {
     "name": "#%%\n"
    }
   }
  },
  {
   "cell_type": "markdown",
   "source": [
    "### Считаем статистические мета-признаки для цифр"
   ],
   "metadata": {
    "collapsed": false
   }
  },
  {
   "cell_type": "code",
   "execution_count": 10,
   "outputs": [
    {
     "name": "stderr",
     "output_type": "stream",
     "text": [
      "/var/folders/q0/lmw4x3p12rx66d0_w3_0fdz00000gp/T/ipykernel_26418/1940479698.py:28: RuntimeWarning:\n",
      "\n",
      "Precision loss occurred in moment calculation due to catastrophic cancellation. This occurs when the data are nearly identical. Results may be unreliable.\n",
      "\n",
      "/var/folders/q0/lmw4x3p12rx66d0_w3_0fdz00000gp/T/ipykernel_26418/1940479698.py:26: RuntimeWarning:\n",
      "\n",
      "Precision loss occurred in moment calculation due to catastrophic cancellation. This occurs when the data are nearly identical. Results may be unreliable.\n",
      "\n",
      "/Users/egor.bazhenov/PycharmProjects/autoML/venv/lib/python3.9/site-packages/numpy/core/fromnumeric.py:3715: RuntimeWarning:\n",
      "\n",
      "Degrees of freedom <= 0 for slice\n",
      "\n",
      "/Users/egor.bazhenov/PycharmProjects/autoML/venv/lib/python3.9/site-packages/numpy/core/_methods.py:223: RuntimeWarning:\n",
      "\n",
      "invalid value encountered in divide\n",
      "\n",
      "/Users/egor.bazhenov/PycharmProjects/autoML/venv/lib/python3.9/site-packages/numpy/core/_methods.py:257: RuntimeWarning:\n",
      "\n",
      "invalid value encountered in double_scalars\n",
      "\n",
      "/Users/egor.bazhenov/PycharmProjects/autoML/venv/lib/python3.9/site-packages/scipy/stats/_stats_py.py:1452: RuntimeWarning:\n",
      "\n",
      "Mean of empty slice.\n",
      "\n",
      "/Users/egor.bazhenov/PycharmProjects/autoML/venv/lib/python3.9/site-packages/numpy/core/_methods.py:182: RuntimeWarning:\n",
      "\n",
      "invalid value encountered in divide\n",
      "\n",
      "/Users/egor.bazhenov/PycharmProjects/autoML/venv/lib/python3.9/site-packages/numpy/core/fromnumeric.py:3432: RuntimeWarning:\n",
      "\n",
      "Mean of empty slice.\n",
      "\n",
      "/Users/egor.bazhenov/PycharmProjects/autoML/venv/lib/python3.9/site-packages/numpy/core/_methods.py:190: RuntimeWarning:\n",
      "\n",
      "invalid value encountered in double_scalars\n",
      "\n",
      "/Users/egor.bazhenov/PycharmProjects/autoML/venv/lib/python3.9/site-packages/numpy/lib/function_base.py:518: RuntimeWarning:\n",
      "\n",
      "Mean of empty slice.\n",
      "\n",
      "/Users/egor.bazhenov/PycharmProjects/autoML/venv/lib/python3.9/site-packages/scipy/stats/_stats_py.py:1340: RuntimeWarning:\n",
      "\n",
      "Mean of empty slice.\n",
      "\n"
     ]
    }
   ],
   "source": [
    "import scipy.stats as sps\n",
    "\n",
    "\n",
    "def get_numeric_features(df, target):\n",
    "    columns_count = len(df.iloc[0])\n",
    "    answer = list()\n",
    "    for index in range(columns_count):\n",
    "        if is_numeric_dtype(df.iloc[:, index]) and not compare_lists(df.iloc[:, index], df.loc[:, target]):\n",
    "            answer.append(df.iloc[:, index])\n",
    "    return answer\n",
    "\n",
    "\n",
    "def do_numeric_func(data, func_name):\n",
    "    try:\n",
    "        if func_name == 'min':\n",
    "            return np.min(data)\n",
    "        elif func_name == 'max':\n",
    "            return np.max(data)\n",
    "        elif func_name == 'avg':\n",
    "            return np.average(data)\n",
    "        elif func_name == 'var':\n",
    "            return np.var(data)\n",
    "        elif func_name == 'median':\n",
    "            return np.median(data)\n",
    "        elif func_name == 'skew':\n",
    "            return sps.skew(data)\n",
    "        elif func_name == 'kurtosis':\n",
    "            return sps.kurtosis(data)\n",
    "    except:\n",
    "        return 0\n",
    "\n",
    "\n",
    "numeric_functions = {'min', 'max', 'avg', 'var', 'median', 'skew', 'kurtosis'}\n",
    "\n",
    "numeric_meta_features = {}\n",
    "for (index, (d, target)) in enumerate(data):\n",
    "    numeric_features = get_numeric_features(d, target)\n",
    "    answer = list()\n",
    "    for f1 in numeric_functions:\n",
    "        for f2 in numeric_functions:\n",
    "            apply_func = list()\n",
    "            for col in numeric_features:\n",
    "                apply_func.append(do_numeric_func(col, f1))\n",
    "            answer.append(do_numeric_func(apply_func, f2))\n",
    "    numeric_meta_features[index] = answer"
   ],
   "metadata": {
    "collapsed": false,
    "pycharm": {
     "name": "#%%\n"
    }
   }
  },
  {
   "cell_type": "markdown",
   "source": [
    "### Считаем статистические мета-признаки для категорий"
   ],
   "metadata": {
    "collapsed": false
   }
  },
  {
   "cell_type": "code",
   "execution_count": 11,
   "outputs": [
    {
     "name": "stderr",
     "output_type": "stream",
     "text": [
      "/var/folders/q0/lmw4x3p12rx66d0_w3_0fdz00000gp/T/ipykernel_26418/1940479698.py:28: RuntimeWarning:\n",
      "\n",
      "Precision loss occurred in moment calculation due to catastrophic cancellation. This occurs when the data are nearly identical. Results may be unreliable.\n",
      "\n",
      "/var/folders/q0/lmw4x3p12rx66d0_w3_0fdz00000gp/T/ipykernel_26418/1940479698.py:26: RuntimeWarning:\n",
      "\n",
      "Precision loss occurred in moment calculation due to catastrophic cancellation. This occurs when the data are nearly identical. Results may be unreliable.\n",
      "\n"
     ]
    }
   ],
   "source": [
    "def get_category_features(df, target):\n",
    "    columns_count = len(df.iloc[0])\n",
    "    answer = list()\n",
    "    for index in range(columns_count):\n",
    "        if not is_numeric_dtype(df.iloc[:, index]) and not compare_lists(df.iloc[:, index], df.loc[:, target]):\n",
    "            answer.append(df.iloc[:, index])\n",
    "    return answer\n",
    "\n",
    "\n",
    "def category_to_probability(df):\n",
    "    op = {}\n",
    "    ans = list()\n",
    "    for key in df:\n",
    "        if op.keys().__contains__(key):\n",
    "            op[key] = op[key] + 1\n",
    "        else:\n",
    "            op[key] = 1\n",
    "    for (key, value) in op:\n",
    "        ans.append(value / len(df))\n",
    "    return ans\n",
    "\n",
    "\n",
    "def do_category_func(data, func_name):\n",
    "    try:\n",
    "        if func_name == 'values':\n",
    "            return len(set(data))\n",
    "        elif func_name == 'entropy':\n",
    "            return sps.entropy(category_to_probability(data))\n",
    "    except:\n",
    "        return 0\n",
    "\n",
    "\n",
    "category_functions = {'entropy', 'values'}\n",
    "\n",
    "category_meta_features = {}\n",
    "for (index, (d, target)) in enumerate(data):\n",
    "    numeric_features = get_category_features(d, target)\n",
    "    answer = list()\n",
    "    for f1 in numeric_functions:\n",
    "        for f2 in category_functions:\n",
    "            apply_func = list()\n",
    "            for col in numeric_features:\n",
    "                apply_func.append(do_category_func(col, f2))\n",
    "            answer.append(do_numeric_func(apply_func, f1))\n",
    "    category_meta_features[index] = answer"
   ],
   "metadata": {
    "collapsed": false,
    "pycharm": {
     "name": "#%%\n"
    }
   }
  },
  {
   "cell_type": "markdown",
   "source": [
    "### Считаем структурные мета-признаки"
   ],
   "metadata": {
    "collapsed": false
   }
  },
  {
   "cell_type": "code",
   "execution_count": 12,
   "outputs": [
    {
     "name": "stderr",
     "output_type": "stream",
     "text": [
      "/var/folders/q0/lmw4x3p12rx66d0_w3_0fdz00000gp/T/ipykernel_26418/1940479698.py:28: RuntimeWarning:\n",
      "\n",
      "Precision loss occurred in moment calculation due to catastrophic cancellation. This occurs when the data are nearly identical. Results may be unreliable.\n",
      "\n",
      "/var/folders/q0/lmw4x3p12rx66d0_w3_0fdz00000gp/T/ipykernel_26418/1940479698.py:26: RuntimeWarning:\n",
      "\n",
      "Precision loss occurred in moment calculation due to catastrophic cancellation. This occurs when the data are nearly identical. Results may be unreliable.\n",
      "\n",
      "/var/folders/q0/lmw4x3p12rx66d0_w3_0fdz00000gp/T/ipykernel_26418/1940479698.py:28: RuntimeWarning:\n",
      "\n",
      "Precision loss occurred in moment calculation due to catastrophic cancellation. This occurs when the data are nearly identical. Results may be unreliable.\n",
      "\n",
      "/var/folders/q0/lmw4x3p12rx66d0_w3_0fdz00000gp/T/ipykernel_26418/1940479698.py:26: RuntimeWarning:\n",
      "\n",
      "Precision loss occurred in moment calculation due to catastrophic cancellation. This occurs when the data are nearly identical. Results may be unreliable.\n",
      "\n",
      "/var/folders/q0/lmw4x3p12rx66d0_w3_0fdz00000gp/T/ipykernel_26418/1940479698.py:28: RuntimeWarning:\n",
      "\n",
      "Precision loss occurred in moment calculation due to catastrophic cancellation. This occurs when the data are nearly identical. Results may be unreliable.\n",
      "\n",
      "/var/folders/q0/lmw4x3p12rx66d0_w3_0fdz00000gp/T/ipykernel_26418/1940479698.py:26: RuntimeWarning:\n",
      "\n",
      "Precision loss occurred in moment calculation due to catastrophic cancellation. This occurs when the data are nearly identical. Results may be unreliable.\n",
      "\n",
      "/var/folders/q0/lmw4x3p12rx66d0_w3_0fdz00000gp/T/ipykernel_26418/1940479698.py:28: RuntimeWarning:\n",
      "\n",
      "Precision loss occurred in moment calculation due to catastrophic cancellation. This occurs when the data are nearly identical. Results may be unreliable.\n",
      "\n",
      "/var/folders/q0/lmw4x3p12rx66d0_w3_0fdz00000gp/T/ipykernel_26418/1940479698.py:26: RuntimeWarning:\n",
      "\n",
      "Precision loss occurred in moment calculation due to catastrophic cancellation. This occurs when the data are nearly identical. Results may be unreliable.\n",
      "\n",
      "/var/folders/q0/lmw4x3p12rx66d0_w3_0fdz00000gp/T/ipykernel_26418/1940479698.py:28: RuntimeWarning:\n",
      "\n",
      "Precision loss occurred in moment calculation due to catastrophic cancellation. This occurs when the data are nearly identical. Results may be unreliable.\n",
      "\n",
      "/var/folders/q0/lmw4x3p12rx66d0_w3_0fdz00000gp/T/ipykernel_26418/1940479698.py:26: RuntimeWarning:\n",
      "\n",
      "Precision loss occurred in moment calculation due to catastrophic cancellation. This occurs when the data are nearly identical. Results may be unreliable.\n",
      "\n",
      "/var/folders/q0/lmw4x3p12rx66d0_w3_0fdz00000gp/T/ipykernel_26418/1940479698.py:28: RuntimeWarning:\n",
      "\n",
      "Precision loss occurred in moment calculation due to catastrophic cancellation. This occurs when the data are nearly identical. Results may be unreliable.\n",
      "\n",
      "/var/folders/q0/lmw4x3p12rx66d0_w3_0fdz00000gp/T/ipykernel_26418/1940479698.py:26: RuntimeWarning:\n",
      "\n",
      "Precision loss occurred in moment calculation due to catastrophic cancellation. This occurs when the data are nearly identical. Results may be unreliable.\n",
      "\n",
      "/var/folders/q0/lmw4x3p12rx66d0_w3_0fdz00000gp/T/ipykernel_26418/1940479698.py:28: RuntimeWarning:\n",
      "\n",
      "Precision loss occurred in moment calculation due to catastrophic cancellation. This occurs when the data are nearly identical. Results may be unreliable.\n",
      "\n",
      "/var/folders/q0/lmw4x3p12rx66d0_w3_0fdz00000gp/T/ipykernel_26418/1940479698.py:26: RuntimeWarning:\n",
      "\n",
      "Precision loss occurred in moment calculation due to catastrophic cancellation. This occurs when the data are nearly identical. Results may be unreliable.\n",
      "\n",
      "/var/folders/q0/lmw4x3p12rx66d0_w3_0fdz00000gp/T/ipykernel_26418/1940479698.py:28: RuntimeWarning:\n",
      "\n",
      "Precision loss occurred in moment calculation due to catastrophic cancellation. This occurs when the data are nearly identical. Results may be unreliable.\n",
      "\n",
      "/var/folders/q0/lmw4x3p12rx66d0_w3_0fdz00000gp/T/ipykernel_26418/1940479698.py:26: RuntimeWarning:\n",
      "\n",
      "Precision loss occurred in moment calculation due to catastrophic cancellation. This occurs when the data are nearly identical. Results may be unreliable.\n",
      "\n",
      "/var/folders/q0/lmw4x3p12rx66d0_w3_0fdz00000gp/T/ipykernel_26418/1940479698.py:28: RuntimeWarning:\n",
      "\n",
      "Precision loss occurred in moment calculation due to catastrophic cancellation. This occurs when the data are nearly identical. Results may be unreliable.\n",
      "\n",
      "/var/folders/q0/lmw4x3p12rx66d0_w3_0fdz00000gp/T/ipykernel_26418/1940479698.py:26: RuntimeWarning:\n",
      "\n",
      "Precision loss occurred in moment calculation due to catastrophic cancellation. This occurs when the data are nearly identical. Results may be unreliable.\n",
      "\n",
      "/var/folders/q0/lmw4x3p12rx66d0_w3_0fdz00000gp/T/ipykernel_26418/1940479698.py:28: RuntimeWarning:\n",
      "\n",
      "Precision loss occurred in moment calculation due to catastrophic cancellation. This occurs when the data are nearly identical. Results may be unreliable.\n",
      "\n",
      "/var/folders/q0/lmw4x3p12rx66d0_w3_0fdz00000gp/T/ipykernel_26418/1940479698.py:26: RuntimeWarning:\n",
      "\n",
      "Precision loss occurred in moment calculation due to catastrophic cancellation. This occurs when the data are nearly identical. Results may be unreliable.\n",
      "\n",
      "/var/folders/q0/lmw4x3p12rx66d0_w3_0fdz00000gp/T/ipykernel_26418/1940479698.py:28: RuntimeWarning:\n",
      "\n",
      "Precision loss occurred in moment calculation due to catastrophic cancellation. This occurs when the data are nearly identical. Results may be unreliable.\n",
      "\n",
      "/var/folders/q0/lmw4x3p12rx66d0_w3_0fdz00000gp/T/ipykernel_26418/1940479698.py:26: RuntimeWarning:\n",
      "\n",
      "Precision loss occurred in moment calculation due to catastrophic cancellation. This occurs when the data are nearly identical. Results may be unreliable.\n",
      "\n",
      "/var/folders/q0/lmw4x3p12rx66d0_w3_0fdz00000gp/T/ipykernel_26418/1940479698.py:28: RuntimeWarning:\n",
      "\n",
      "Precision loss occurred in moment calculation due to catastrophic cancellation. This occurs when the data are nearly identical. Results may be unreliable.\n",
      "\n",
      "/var/folders/q0/lmw4x3p12rx66d0_w3_0fdz00000gp/T/ipykernel_26418/1940479698.py:26: RuntimeWarning:\n",
      "\n",
      "Precision loss occurred in moment calculation due to catastrophic cancellation. This occurs when the data are nearly identical. Results may be unreliable.\n",
      "\n",
      "/var/folders/q0/lmw4x3p12rx66d0_w3_0fdz00000gp/T/ipykernel_26418/1940479698.py:28: RuntimeWarning:\n",
      "\n",
      "Precision loss occurred in moment calculation due to catastrophic cancellation. This occurs when the data are nearly identical. Results may be unreliable.\n",
      "\n",
      "/var/folders/q0/lmw4x3p12rx66d0_w3_0fdz00000gp/T/ipykernel_26418/1940479698.py:26: RuntimeWarning:\n",
      "\n",
      "Precision loss occurred in moment calculation due to catastrophic cancellation. This occurs when the data are nearly identical. Results may be unreliable.\n",
      "\n",
      "/var/folders/q0/lmw4x3p12rx66d0_w3_0fdz00000gp/T/ipykernel_26418/1940479698.py:28: RuntimeWarning:\n",
      "\n",
      "Precision loss occurred in moment calculation due to catastrophic cancellation. This occurs when the data are nearly identical. Results may be unreliable.\n",
      "\n",
      "/var/folders/q0/lmw4x3p12rx66d0_w3_0fdz00000gp/T/ipykernel_26418/1940479698.py:26: RuntimeWarning:\n",
      "\n",
      "Precision loss occurred in moment calculation due to catastrophic cancellation. This occurs when the data are nearly identical. Results may be unreliable.\n",
      "\n"
     ]
    }
   ],
   "source": [
    "from sklearn.neighbors import KNeighborsClassifier\n",
    "from sklearn import preprocessing\n",
    "from sklearn import tree\n",
    "\n",
    "\n",
    "def drop_category_features(df, target):\n",
    "    columns_count = len(df.iloc[0])\n",
    "    answer = list()\n",
    "    for index in range(columns_count):\n",
    "        if is_numeric_dtype(df.iloc[:, index]) and not compare_lists(df.iloc[:, index], df.loc[:, target]):\n",
    "            answer.append(df.iloc[:, index])\n",
    "    return pd.DataFrame(np.transpose(answer))\n",
    "\n",
    "\n",
    "lab = preprocessing.LabelEncoder()\n",
    "structure_meta_features = {}\n",
    "for (index, (d, target)) in enumerate(data):\n",
    "    cur_d = d.copy()\n",
    "    numeric_features = get_category_features(cur_d, target)\n",
    "    labels = lab.fit_transform(d.loc[:, target])\n",
    "    cur_d = drop_category_features(cur_d, target)\n",
    "    li = list()\n",
    "    li.append(cur_d)\n",
    "    for r in numeric_features:\n",
    "        li.append(pd.get_dummies(r))\n",
    "    cur_d = pd.concat(li, axis=1).fillna(0)\n",
    "\n",
    "    neigh = KNeighborsClassifier(n_neighbors=len(set(labels)))\n",
    "    neigh = neigh.fit(cur_d, labels)\n",
    "\n",
    "    clf = tree.DecisionTreeClassifier()\n",
    "    clf = clf.fit(cur_d, labels)\n",
    "\n",
    "    list_n = list()\n",
    "    list_c = list()\n",
    "    for (i, ob) in cur_d.iterrows():\n",
    "        list_c.append(clf.decision_path([ob]).getnnz())\n",
    "        list_n.append(np.min(neigh.kneighbors([ob])))\n",
    "\n",
    "    answer = list()\n",
    "    for f in numeric_functions:\n",
    "        answer.append(do_numeric_func(list_n, f))\n",
    "        answer.append(do_numeric_func(list_c, f))\n",
    "\n",
    "    structure_meta_features[index] = answer"
   ],
   "metadata": {
    "collapsed": false,
    "pycharm": {
     "name": "#%%\n"
    }
   }
  },
  {
   "cell_type": "markdown",
   "source": [
    "### Выводим готовый набор мета-признаков"
   ],
   "metadata": {
    "collapsed": false
   }
  },
  {
   "cell_type": "code",
   "execution_count": 13,
   "outputs": [
    {
     "name": "stdout",
     "output_type": "stream",
     "text": [
      "      0   1   2   3            4             5         6             7   \\\n",
      "0    148   4  18  15         8.00  4.666667e+00 -1.500000  5.000000e+00   \n",
      "1     76   2  45  45         0.00  0.000000e+00  0.000000  0.000000e+00   \n",
      "2    339   2  17  17         0.00  0.000000e+00  0.000000  0.000000e+00   \n",
      "3    214   2   9   0        75.41  5.003625e+02  3.250157  1.426377e+01   \n",
      "4    148   2  18  15         8.00  4.666667e+00 -1.500000  5.000000e+00   \n",
      "..   ...  ..  ..  ..          ...           ...       ...           ...   \n",
      "351  846   2  18   0      1018.00  4.884154e+04  7.584331  1.988889e+02   \n",
      "352  214   2   9   0        75.41  5.003625e+02  3.250157  1.426377e+01   \n",
      "353  625   2   4   0         5.00  0.000000e+00  0.000000  5.000000e+00   \n",
      "354   57   2  11   7  17953372.00  6.007687e+13 -0.666686  4.528421e+06   \n",
      "355  226   2  69  69         0.00  0.000000e+00  0.000000  0.000000e+00   \n",
      "\n",
      "           8         9   ...   71         72   73        74   75   76   77  \\\n",
      "0        4.00      3.00  ...  0.0  -0.391538  0.0  5.581081  0.0  5.0  0.0   \n",
      "1        0.00      0.00  ...  0.0  15.505323  0.0  4.855263  0.0  5.0  0.0   \n",
      "2        0.00      0.00  ...  0.0   0.284965  0.0  7.280236  0.0  7.0  0.0   \n",
      "3        4.49      0.51  ...  0.0  -0.840927  0.0  7.668224  0.0  8.0  0.0   \n",
      "4        4.00      3.00  ...  0.0   1.544137  0.0  5.256757  0.0  5.0  0.0   \n",
      "..        ...       ...  ...  ...        ...  ...       ...  ...  ...  ...   \n",
      "351    136.50     22.00  ...  0.0   0.246692  0.0  5.977541  0.0  6.0  0.0   \n",
      "352      4.49      0.51  ...  0.0  -0.840927  0.0  7.668224  0.0  8.0  0.0   \n",
      "353      5.00      5.00  ...  0.0   0.468796  0.0  7.417600  0.0  7.0  0.0   \n",
      "354  69154.50  22003.00  ...  0.0   0.661118  0.0  5.140351  0.0  5.0  0.0   \n",
      "355      0.00      0.00  ...  0.0  -1.564117  0.0  3.800885  0.0  2.0  0.0   \n",
      "\n",
      "     78   79        80  \n",
      "0     4  0.0  0.353053  \n",
      "1     2  0.0 -4.066292  \n",
      "2     4  0.0  1.069131  \n",
      "3     4  0.0 -0.215326  \n",
      "4     4  0.0  1.397255  \n",
      "..   ..  ...       ...  \n",
      "351   4  0.0  0.043634  \n",
      "352   4  0.0 -0.215326  \n",
      "353   5  0.0  0.511883  \n",
      "354   3  0.0 -0.394903  \n",
      "355   2  0.0  0.548808  \n",
      "\n",
      "[356 rows x 81 columns]\n"
     ]
    }
   ],
   "source": [
    "new_data = list()\n",
    "for k in range(len(data)):\n",
    "    cur_f = list(base_meta_features[k]) + numeric_meta_features[k] + category_meta_features[k] + structure_meta_features[k]\n",
    "    new_data.append(cur_f)\n",
    "print(pd.DataFrame(new_data).fillna(0))"
   ],
   "metadata": {
    "collapsed": false,
    "pycharm": {
     "name": "#%%\n"
    }
   }
  },
  {
   "cell_type": "markdown",
   "source": [
    "### Проверяем, что набор мета-признаков не зависит от порядка строк и столбцов"
   ],
   "metadata": {
    "collapsed": false
   }
  },
  {
   "cell_type": "code",
   "execution_count": 14,
   "outputs": [
    {
     "name": "stderr",
     "output_type": "stream",
     "text": [
      "/var/folders/q0/lmw4x3p12rx66d0_w3_0fdz00000gp/T/ipykernel_26418/1940479698.py:28: RuntimeWarning:\n",
      "\n",
      "Precision loss occurred in moment calculation due to catastrophic cancellation. This occurs when the data are nearly identical. Results may be unreliable.\n",
      "\n",
      "/var/folders/q0/lmw4x3p12rx66d0_w3_0fdz00000gp/T/ipykernel_26418/1940479698.py:26: RuntimeWarning:\n",
      "\n",
      "Precision loss occurred in moment calculation due to catastrophic cancellation. This occurs when the data are nearly identical. Results may be unreliable.\n",
      "\n"
     ]
    },
    {
     "name": "stdout",
     "output_type": "stream",
     "text": [
      "      0    1     2     3    4         5    6    7    8    9   ...   71  \\\n",
      "0  148.0  4.0  18.0  15.0  8.0  4.666667 -1.5  5.0  4.0  3.0  ...  0.0   \n",
      "\n",
      "         72   73        74   75   76   77   78   79        80  \n",
      "0  0.365736  0.0  6.959459  0.0  7.0  0.0  4.0  0.0  0.671184  \n",
      "\n",
      "[1 rows x 81 columns]\n"
     ]
    }
   ],
   "source": [
    "new_base_meta_features = {}\n",
    "new_numeric_meta_features = {}\n",
    "new_category_meta_features = {}\n",
    "new_structure_meta_features = {}\n",
    "for (index, (d, target)) in enumerate(data):\n",
    "    d = d.sample(frac=1).sample(frac=1,axis=1)\n",
    "    new_base_meta_features[index] = [\n",
    "        get_objects_count(d),\n",
    "        get_classes_count(d, target),\n",
    "        get_features_count(d),\n",
    "        get_features_count(d) - get_numeric_features_count(d, target)\n",
    "    ]\n",
    "\n",
    "    numeric_features = get_numeric_features(d, target)\n",
    "    answer = list()\n",
    "    for f1 in numeric_functions:\n",
    "        for f2 in numeric_functions:\n",
    "            apply_func = list()\n",
    "            for col in numeric_features:\n",
    "                apply_func.append(do_numeric_func(col, f1))\n",
    "            answer.append(do_numeric_func(apply_func, f2))\n",
    "    new_numeric_meta_features[index] = answer\n",
    "\n",
    "    category_features = get_category_features(d, target)\n",
    "    answer = list()\n",
    "    for f1 in numeric_functions:\n",
    "        for f2 in category_functions:\n",
    "            apply_func = list()\n",
    "            for col in category_features:\n",
    "                apply_func.append(do_category_func(col, f2))\n",
    "            answer.append(do_numeric_func(apply_func, f1))\n",
    "    new_category_meta_features[index] = answer\n",
    "\n",
    "    cur_d = d.copy()\n",
    "    numeric_features = get_category_features(cur_d, target)\n",
    "    labels = lab.fit_transform(d.loc[:, target])\n",
    "    cur_d = drop_category_features(cur_d, target)\n",
    "    li = list()\n",
    "    li.append(cur_d)\n",
    "    for r in numeric_features:\n",
    "        li.append(pd.get_dummies(r))\n",
    "    cur_d = pd.concat(li, axis=1).fillna(0)\n",
    "\n",
    "    neigh = KNeighborsClassifier(n_neighbors=len(set(labels)))\n",
    "    neigh = neigh.fit(cur_d, labels)\n",
    "\n",
    "    clf = tree.DecisionTreeClassifier()\n",
    "    clf = clf.fit(cur_d, labels)\n",
    "\n",
    "    list_n = list()\n",
    "    list_c = list()\n",
    "    for (i, ob) in cur_d.iterrows():\n",
    "        list_c.append(clf.decision_path([ob]).getnnz())\n",
    "        list_n.append(np.min(neigh.kneighbors([ob])))\n",
    "\n",
    "    answer = list()\n",
    "    for f in numeric_functions:\n",
    "        answer.append(do_numeric_func(list_n, f))\n",
    "        answer.append(do_numeric_func(list_c, f))\n",
    "\n",
    "    new_structure_meta_features[index] = answer\n",
    "    break\n",
    "\n",
    "print(pd.DataFrame(list(\n",
    "    new_base_meta_features[0] + new_numeric_meta_features[0] + new_category_meta_features[0] + new_structure_meta_features[0])).fillna(\n",
    "    0).transpose())"
   ],
   "metadata": {
    "collapsed": false,
    "pycharm": {
     "name": "#%%\n"
    }
   }
  },
  {
   "cell_type": "markdown",
   "source": [
    "### Определяем наилучший алгоритм для каждого набора данных"
   ],
   "metadata": {
    "collapsed": false
   }
  },
  {
   "cell_type": "code",
   "execution_count": 15,
   "outputs": [],
   "source": [
    "from sklearn.metrics import accuracy_score\n",
    "from sklearn.model_selection import train_test_split\n",
    "from sklearn import svm\n",
    "\n",
    "\n",
    "def accur_by_model(X, y, model):\n",
    "    try:\n",
    "        X_train, X_test, y_train, y_test = train_test_split(X, y, test_size=0.33)\n",
    "        new_model = model.fit(X_train, y_train)\n",
    "        pred_y = new_model.predict(X_test)\n",
    "        return accuracy_score(y_test, pred_y)\n",
    "    except:\n",
    "        return 0\n",
    "\n",
    "\n",
    "targets = list()\n",
    "for (index, (d, target)) in enumerate(data):\n",
    "    cur_d = d.copy()\n",
    "    numeric_features = get_category_features(cur_d, target)\n",
    "    labels = lab.fit_transform(d.loc[:, target])\n",
    "    cur_d = drop_category_features(cur_d, target)\n",
    "    li = list()\n",
    "    li.append(cur_d)\n",
    "    for r in numeric_features:\n",
    "        li.append(pd.get_dummies(r))\n",
    "    cur_d = pd.concat(li, axis=1).fillna(0)\n",
    "\n",
    "    algos = [KNeighborsClassifier(n_neighbors=len(set(labels))), tree.DecisionTreeClassifier(), svm.SVC()]\n",
    "    acs = list()\n",
    "    for algo in algos:\n",
    "        acs.append(accur_by_model(cur_d, labels, algo))\n",
    "    if acs[0] >= acs[1] and acs[0] >= acs[2]:\n",
    "        targets.append(\"KNN\")\n",
    "    elif acs[1] >= acs[0] and acs[1] >= acs[2]:\n",
    "        targets.append(\"DT\")\n",
    "    else:\n",
    "        targets.append(\"SVM\")"
   ],
   "metadata": {
    "collapsed": false,
    "pycharm": {
     "name": "#%%\n"
    }
   }
  },
  {
   "cell_type": "markdown",
   "source": [
    "### Создаем новый набор данных"
   ],
   "metadata": {
    "collapsed": false
   }
  },
  {
   "cell_type": "code",
   "execution_count": 16,
   "outputs": [],
   "source": [
    "pd.concat([pd.DataFrame(new_data).fillna(0), pd.DataFrame(targets)], axis=1).to_csv('new_data.csv')"
   ],
   "metadata": {
    "collapsed": false,
    "pycharm": {
     "name": "#%%\n"
    }
   }
  },
  {
   "cell_type": "markdown",
   "source": [
    "### Визуализация нового набора данных"
   ],
   "metadata": {
    "collapsed": false
   }
  },
  {
   "cell_type": "code",
   "execution_count": 17,
   "outputs": [
    {
     "data": {
      "application/vnd.plotly.v1+json": {
       "data": [
        {
         "hovertemplate": "color=KNN<br>0=%{x}<br>1=%{y}<extra></extra>",
         "legendgroup": "KNN",
         "marker": {
          "color": "#636efa",
          "symbol": "circle"
         },
         "mode": "markers",
         "name": "KNN",
         "orientation": "v",
         "showlegend": true,
         "x": [
          -0.07578017636274444,
          -0.28279704975857667,
          -0.6286759848486532,
          -0.07839740552892357,
          -0.46666655591626194,
          -0.7734634373477143,
          -0.18551617263939263,
          -0.022756738432551087,
          -0.14683234613667112,
          0.13194215616366403,
          0.01969574982815212,
          0.2981958870756008,
          0.08248354226712448,
          0.1546611780110491,
          -2.719695307728028,
          -0.13040136258743662,
          -1.3024751827554808,
          -0.24594211441217056,
          -1.1883129394733567,
          -0.3047705968056392,
          0.424304767118127,
          0.4394393588264363,
          0.8799559536470161,
          0.8021033768442871,
          0.9683270894011725,
          0.45237793002653826,
          -0.13147749061413916,
          -0.6471974832086712,
          -0.13345117482724922,
          -0.052508453343030774,
          0.3387216387792672,
          0.24381338610793488,
          0.1807054131809182,
          0.08480327147131245,
          -0.16514539718944463,
          -2.356646285001004,
          -2.31805670024417,
          -2.36702043280175,
          -0.21902658407624384,
          -0.4547252474822632,
          -0.19396847261350902,
          -0.5157207726737904,
          -0.030617307463084994,
          -0.6300968264773138,
          -0.05589084285562725,
          -0.6355482304374802,
          0.04386637127937302,
          0.018662969818447794,
          -0.8058459010268358,
          -1.4134243960072506,
          0.061655923171107595,
          -0.8408225796121045,
          -0.97391171110142,
          -0.4863041076643426,
          -0.24944247074572803,
          0.015124063218008186,
          -0.2400960525407352,
          -0.107727521856406,
          -0.5242754889918139,
          -0.0023142157712729,
          0.4906746661217344,
          -0.5795801823972972,
          0.12182982602859693,
          -0.0781332582571901,
          -0.5033396893880114,
          0.041344269418339796,
          0.0877408882566621,
          -0.12318915107379529,
          0.233193327556552,
          -0.36056821779431686,
          -0.49807012901788783,
          -0.5847360430458804,
          -0.04810482636674537,
          -0.07000350965262238,
          0.016409836632789762,
          -0.09753765337371868,
          -0.13480986126839445,
          -0.08847329034359651,
          0.24582715283161136,
          0.16766136860670824,
          -0.8069526787066249,
          -0.06932995782346148,
          -1.572346254776501,
          -0.24700972363843765,
          -0.1656868833871267,
          -0.46852160684504185,
          0.42041047833064993,
          -0.6679606946140769
         ],
         "xaxis": "x",
         "y": [
          -0.015857986254274665,
          -0.2734329871999583,
          -0.0021001106192962008,
          -0.01282839763644798,
          -0.20420491500782134,
          0.41437662876575365,
          -0.02110015491618369,
          -0.49907849963983636,
          -0.09732323892875341,
          -0.3217268743522349,
          -0.0540117585568914,
          -0.3880607699894391,
          -0.2878744283866566,
          -0.3592083438443149,
          0.5783194914584995,
          -0.10790259782692407,
          0.07179440818678698,
          -0.24430688509529958,
          -0.30471682597225175,
          -0.37740981731981005,
          -0.38699137930920074,
          -0.38209552032572003,
          -0.6303435972065563,
          -0.5784481937427304,
          -0.7219895802721588,
          -0.41505857198675766,
          -0.09966487554771523,
          -0.2859942668908362,
          -0.1787067544798578,
          -0.8700012953833571,
          -0.7216415299285288,
          -0.4656720559704654,
          -0.39424571888385734,
          -0.4869860910282789,
          0.16270164839484022,
          -0.162208430106876,
          -0.17217949186344528,
          -0.13723647155745938,
          -0.14108830959297083,
          -0.35616382722582934,
          -0.09616403528933849,
          -0.2573874728964781,
          -0.3617461096625285,
          -0.27599026758730844,
          -0.20009699812627058,
          0.18965078905899527,
          -0.2361542208058771,
          -0.2091187913332543,
          0.03516935132130599,
          -0.05330805822013852,
          -0.2231476577073307,
          0.03939558772285896,
          1.002774279592394,
          -0.03797286574106044,
          -0.2930932347079121,
          -0.15593323499057088,
          -0.09935630267263675,
          -0.10829562566050159,
          0.46048932752324634,
          -0.48401128781715824,
          -0.5009176371731057,
          0.5157565327616258,
          -0.34566304833930217,
          -0.145679209153959,
          -0.2054449674116886,
          -0.25983516885276253,
          -0.2466055785686579,
          -0.19116496600234986,
          -0.31516312771152727,
          0.24296346419121886,
          0.09974504268153003,
          0.01531193354848103,
          -0.12623706628922599,
          -0.1594554255032897,
          -0.18582854994149178,
          -0.012335304483763016,
          -0.13981900218509435,
          -0.1641420446775675,
          -0.23104412684481215,
          -0.18286848669687977,
          0.9440675877861171,
          -0.24233426771664107,
          -0.0803002666089531,
          -0.002806055771944494,
          0.009717956412895586,
          -0.25666659779836687,
          -0.32237431622048685,
          0.07712367384027459
         ],
         "yaxis": "y",
         "type": "scatter"
        },
        {
         "hovertemplate": "color=DT<br>0=%{x}<br>1=%{y}<extra></extra>",
         "legendgroup": "DT",
         "marker": {
          "color": "#EF553B",
          "symbol": "circle"
         },
         "mode": "markers",
         "name": "DT",
         "orientation": "v",
         "showlegend": true,
         "x": [
          0.15989878454102824,
          -0.02800568825150218,
          -0.0730539052335424,
          -0.35564875330558676,
          0.09598045251137838,
          0.07316362467825296,
          0.15853506309674895,
          -0.7286093802643996,
          0.06416072416189098,
          -0.8291137805064666,
          -0.6903520333786931,
          -0.43403600458633207,
          -0.18668942704427496,
          -0.23587683976614268,
          0.4631009238752013,
          -1.159096202459478,
          -0.16817984777876363,
          -0.1590092298766391,
          -0.25647592785194817,
          -0.11688508460268265,
          -0.28031910611113375,
          -0.8540688721538819,
          0.36734490778451834,
          -0.22570327774705448,
          0.3863709447401156,
          -0.10507154816991801,
          0.36466945008850504,
          -0.12232833604389154,
          0.244367992456381,
          0.002297941348124575,
          0.08292668451642139,
          0.03565091178383254,
          0.051495708697282414,
          -0.16146635583129443,
          -0.3382876914837395,
          -0.11979281098799144,
          0.046376576499910255,
          -0.10474826384821426,
          -0.2006317917721063,
          -0.05607344979726593,
          -0.2602784806656863,
          0.2797136637449577,
          -0.14915111708206905,
          -0.06087120897287542,
          -0.462377305087021,
          0.19955699217299108,
          -0.05981094846771882,
          0.19010853366088393,
          -0.02384192144860763,
          -0.0869192544499636,
          0.17048276764309298,
          -0.06514064099629434,
          0.1928411927975917,
          0.22324861537382404,
          -1.3620537213829493,
          0.12575254159698906,
          0.0692680556700292,
          0.073817462042849,
          -0.15824096022837006,
          -0.6076815768111125,
          0.14101738833977126,
          -0.23621705802875018,
          -0.5655890076329887,
          -0.7226612459987288,
          -0.25377767621551467,
          -0.12359214608494493,
          0.1060122901228055,
          -2.623309365076204,
          0.04046462072758204,
          -0.05377481702671038,
          0.13788270665211447,
          -0.11569136676284972,
          -0.42822989383430876,
          0.4384759210637922,
          -0.018653071860660824,
          -0.0983887303312637,
          0.04866711488613134,
          -0.08016246098643573,
          0.24927312346892444,
          0.25831064408346993,
          -0.17127063288705316,
          -0.821329207187284,
          -0.8113435210000849,
          0.024719397080400475,
          -1.2062774055519458,
          -0.9739723249391595,
          -0.19100249212487075,
          -0.3692898552051423,
          -0.3195762963994545,
          -0.06797495212248635,
          -0.09620281462040628,
          -0.443137803158513,
          -0.016816134415345123,
          -0.0577649713248107,
          0.06115123649610578,
          0.030835916898620943,
          0.00933224184205952,
          -0.6773580347589904,
          0.14036969802188085,
          -0.3191360818609056,
          -0.27003878346330196,
          -0.024032688590522724,
          -0.2264862748746545,
          -0.14086046275647593,
          0.1470476173654309,
          0.9235765774581296,
          -0.8404093082031842,
          -0.5305132357304352,
          0.0057383869400741165,
          -0.6077119009673727,
          -0.03786590348387056,
          -0.44723423890828984,
          -1.107813700673144,
          -1.2720620489637435,
          -0.16580923605739198,
          -0.031197754143814906,
          -0.15635933933184082,
          -0.341885211151513,
          -0.2538736571551961,
          -0.8742035100121938,
          0.06236602540603802,
          -0.3148853764856753,
          0.1384283524507258,
          0.0341897889544587,
          -0.05100522762132112,
          -0.0948072144179246,
          0.18129950616399285,
          -0.8118668994762798,
          -0.5740203097299841,
          -0.002183833845616222,
          -0.46366675829892157,
          0.15509010469409684,
          -0.8946797339262181,
          -0.16482165883717093,
          -0.5945233937533145,
          -0.36749871500225373,
          0.009909053234520236,
          0.014765509710314765,
          -1.5895866240176486,
          -0.3398051832104639,
          -0.2741620227040163,
          0.06405646873734266,
          -0.032476339419621525,
          -0.12330779482537117,
          0.08279413419510757,
          0.11012865636936998,
          0.07812639421142678,
          -0.32827408329950203,
          -5.733583280184727E-4,
          -0.22877112476324937,
          -0.010861176858718857,
          -0.9305851162390735,
          -0.38632773969407724,
          0.03394725443619548,
          -0.5445997522158044,
          -1.7759832867964882,
          -0.9135776714793659,
          -0.5634772373098438,
          -0.20553191317253786,
          0.007258794989606595,
          -0.28683292689176954,
          -0.7704373358254044
         ],
         "xaxis": "x",
         "y": [
          -0.36734570757110896,
          -0.14473522743968548,
          -0.2113720882847585,
          1.507024245761771,
          -0.34291204845514245,
          -0.26801308275294555,
          -0.22236305545310028,
          0.12298280562629231,
          -0.2648238913185222,
          0.06186684938345149,
          -0.22107520954007737,
          -0.3585811919596593,
          0.4367932393182949,
          0.23366604288574774,
          -0.4018311913930426,
          -0.13490815792457833,
          -0.6128670768195607,
          -0.6317656733693018,
          -0.5392214594868877,
          -0.4644711033983659,
          -0.36641281814136445,
          -0.07423862436472128,
          -0.4667247976065162,
          -0.36780754836678414,
          -0.343495867153163,
          -0.5202328989822012,
          -0.5071036829707499,
          -0.4290026610338768,
          -0.20030250986281764,
          -0.18817452150450623,
          -0.28008552500463396,
          -0.22729314301386133,
          -0.2813645626679517,
          -0.1180798598715578,
          -0.22675181424807425,
          -0.24431201145119769,
          -0.2648673049253737,
          -0.6023715672976835,
          0.20838942896036808,
          -0.09796328847889686,
          -0.15685672582688331,
          -0.3472034494558174,
          -0.08725837849677368,
          -0.24341796879577096,
          0.4108052300557224,
          -0.38339000923570965,
          -0.19100587215806802,
          -0.44175689689800895,
          -0.33942027636411853,
          -0.06162258263686036,
          -0.27921990181476336,
          -0.4169493337929253,
          -0.3692731917888107,
          -0.20896366426043889,
          1.396254891882714,
          -0.28310076866526906,
          -0.24459408875023292,
          -0.24796524510458634,
          -0.3472764250290215,
          0.09894698410712058,
          -0.20191094603881596,
          -0.2977219650803995,
          0.03969072126962583,
          -0.07688084263158683,
          -0.4171594002915335,
          -0.17189059174602467,
          -0.03710728723988475,
          0.025433320209784453,
          -0.3398030605650814,
          -0.23064671789789284,
          -0.31021791347317995,
          -0.2492133234345718,
          -0.37643602936828213,
          -0.46877063993482915,
          -0.14778122087016107,
          -0.3619434013764478,
          -0.10071830509624173,
          -0.22514010580109792,
          -0.3520802972798908,
          -0.25599403410707144,
          -0.15257829948591028,
          -0.2864784043794037,
          0.017283461340292905,
          -0.34050649924017035,
          -0.14817352386767316,
          -0.345510613841041,
          -0.2579120594408615,
          -0.592610759065795,
          -0.3822332849125316,
          -0.13944357921411898,
          -0.44250384851344565,
          -0.15243590826964748,
          -0.19197080815813475,
          -0.23847460938703913,
          -0.08278531178543513,
          -0.27472971098686233,
          -0.25626071488967933,
          0.21072772546051108,
          -0.2134404454117799,
          -0.11923220193970412,
          -0.15493201556806077,
          -0.243744762137613,
          -0.25174417888166245,
          -0.2735785392686134,
          -0.35377956852329373,
          -0.7669981846522025,
          -0.43680032896296317,
          0.13283182030227697,
          -0.18649074061175186,
          -0.38424142246334747,
          -0.18213794101599828,
          -0.46327667949655815,
          0.9517833936205797,
          0.12866053179760922,
          -0.31908651863721527,
          -0.2622288259010944,
          0.21012476444007758,
          -0.05506186781798271,
          -0.4429150149509325,
          -0.5740057556461309,
          -0.17746692187841714,
          0.828044927566094,
          -0.1908571778607791,
          -0.3511293160943744,
          -0.20988228492669103,
          -0.3242356196778967,
          -0.3498775593325309,
          0.3078890292882735,
          -0.42353607482808,
          -0.028846267819572294,
          -0.27266185159621226,
          -0.2565174169840491,
          -0.037306792988008396,
          -0.054934417807189044,
          -0.2457564249016781,
          -0.3439416597346887,
          -0.24601662092074295,
          -0.29239334989926813,
          2.291667162560758,
          -0.003301873178922502,
          -0.11082692343799111,
          -0.016735527717846383,
          -0.19611508803748576,
          -0.052883237672465576,
          -0.19041366276032562,
          -0.3163267460137591,
          -0.30007022973890624,
          -0.04298302586473116,
          -0.23628451708898507,
          -0.14132042026082883,
          0.5451101398634794,
          0.03363423748419617,
          -0.17327862665053229,
          -0.31231034570933613,
          -0.25363543828373536,
          0.2525134758771501,
          0.636323299139351,
          0.022206522143088173,
          -0.27194487431691505,
          -0.1458319690843306,
          -0.006009977582945218,
          -0.028278846091190014
         ],
         "yaxis": "y",
         "type": "scatter"
        },
        {
         "hovertemplate": "color=SVM<br>0=%{x}<br>1=%{y}<extra></extra>",
         "legendgroup": "SVM",
         "marker": {
          "color": "#00cc96",
          "symbol": "circle"
         },
         "mode": "markers",
         "name": "SVM",
         "orientation": "v",
         "showlegend": true,
         "x": [
          0.4644558088464978,
          0.36562315987244,
          -0.06415537781872593,
          0.20539097196475686,
          0.27927793137662105,
          0.7251504394061519,
          -0.9762938269773875,
          0.5691559846187394,
          -0.5863398512818393,
          -0.13124094079415327,
          -0.1001185134035368,
          0.11304838299200307,
          -0.100343640680129,
          0.07917944407629353,
          0.21314079710112213,
          -0.43349957022933994,
          -1.1420644388709118,
          -0.32620408256724764,
          -0.2798983194706785,
          0.446832439955535,
          0.8726417602350083,
          0.760358408664185,
          0.789955171601632,
          0.8540122442968273,
          0.870155576448415,
          0.9917899604071554,
          0.9355179542112623,
          0.4019960902662933,
          0.4336517185111423,
          0.39674635339791536,
          0.41233552390887035,
          0.31941327498808825,
          -0.9610901191158066,
          0.15278735826885895,
          0.290728932516118,
          -0.1353676346135507,
          0.28437753589685283,
          -2.290340666370086,
          -0.2207296190271465,
          -0.1112891465808319,
          -0.700571936667759,
          -0.14310787563577973,
          0.1160791831780014,
          0.6330879151340637,
          -0.06581512534213826,
          -0.06150788721673591,
          0.32244552040384133,
          0.056303705362419465,
          0.13825349927172031,
          -0.13694778798531015,
          0.047927228476100016,
          -6.454520881243462E-4,
          0.23079337757180102,
          0.07898557702906012,
          -0.10443361970259439,
          -0.24068031896130332,
          -0.14404666029967728,
          0.11239822514264523,
          0.6727420085112739,
          0.08818195500735387,
          0.3243883639323098,
          0.133760708177429,
          -0.4562101516062805,
          -0.05133715820473519,
          0.11321460674093721,
          0.12393891271798105,
          0.24731993600160576,
          -0.0425225867364581,
          0.19389837876071497,
          0.05134902194878237,
          -0.467517060067976,
          0.27335913653650323,
          0.0060979185206589325,
          0.27839452768548606,
          0.18245256550221017,
          0.011079334701433777,
          -0.35115694342489023,
          -0.014881640098034667,
          0.11304627887961022,
          -0.40205333091145834,
          0.1912366599043433,
          0.16521386283719794,
          0.20450915115829607,
          0.05114467998345257,
          0.3016936053583336,
          0.060630752431658594,
          -0.07195625026779622,
          0.13956571507884588,
          0.40879547424571683,
          -0.48927639128803924,
          0.1209100701588218,
          -0.5909761024229103,
          0.6588656128368678,
          -0.3620630422453751,
          -0.620031150830015,
          0.08350613029953755,
          -0.40492873994931533,
          -1.5111783799534226,
          0.10871101346431791,
          0.22539601816580057,
          0.13868432079642024,
          0.17187391701067034,
          -0.20603749945630534
         ],
         "xaxis": "x",
         "y": [
          -0.6078267514327818,
          -0.4914448415235267,
          -0.20168117714604158,
          -0.4000188434547497,
          -0.42242396840564944,
          -0.6083297943135414,
          -0.21626106813131016,
          -0.7713778339250376,
          0.2234785650053943,
          -0.2142029352298101,
          -0.17229342360603486,
          -0.3100186920593047,
          -0.17183941911056494,
          -0.1861712828706669,
          -0.27668337800392184,
          -0.3260619886115035,
          -0.35342434812311524,
          -0.08620665400245404,
          -0.11444042064808797,
          -0.4015708062963089,
          -0.6260984911667765,
          -0.5470289232871115,
          -0.5697309068560186,
          -0.6119609681177816,
          -0.6425248240477218,
          -0.7256896343799674,
          -0.685401715574289,
          -0.36113043663129396,
          -0.3885716584217481,
          -0.35643113275871646,
          -0.364985056591978,
          -0.5400005274926694,
          -0.29675848262120635,
          -0.43485943538544053,
          -0.374573298846546,
          -0.21426239249222886,
          -0.44090257106833936,
          -0.20814944768528976,
          -0.24402732164844437,
          -0.2963388007967431,
          0.375856530867649,
          -0.1817367909679191,
          -0.30027091103415304,
          -1.048577110083762,
          -0.28603393327488885,
          -0.15995932556085127,
          -0.3854026486148698,
          -0.1759181997865197,
          -0.41573323338497703,
          -0.24398814481112593,
          -0.2790049003679936,
          -0.26655048167747813,
          -0.30515046710896176,
          -0.34086443063544164,
          -0.1038858216337091,
          -0.3157124958502924,
          -0.2006376421110722,
          -0.3036423295249256,
          -0.6276963887201019,
          -0.32565963743480947,
          -0.3940601323959633,
          -0.27392341992599617,
          -0.11054883442578085,
          -0.475208915216866,
          -0.2621583922111609,
          -0.36972169643792796,
          -0.378587419163592,
          -0.29332243865419094,
          0.3520021760817194,
          -0.2518190370203831,
          -0.07624691017875448,
          -0.42114052678144387,
          -0.15440378630395785,
          -0.41259237967413454,
          -0.39948702582706724,
          -0.21824178842996367,
          -0.06838223467257534,
          -0.1773649090232708,
          -0.21855207804762955,
          -0.16580786977534798,
          -0.2751701316138234,
          0.1919139634498077,
          -0.31898917433703855,
          -0.36907558221326586,
          -0.3949107282202813,
          -0.2952547808023948,
          -0.18239642685819504,
          -0.28701631160112534,
          -0.43549247246228323,
          1.5013401112903306,
          -0.2917751673726041,
          0.7905350510952336,
          -0.5969732036602862,
          0.5673262818568366,
          0.765669298330314,
          -0.22408720031474,
          -0.49374964351511924,
          -0.07768294304520657,
          -0.1627675359450501,
          -0.27839946219181066,
          -0.32642553279223374,
          -0.32555137205150836,
          -0.10891435627306269
         ],
         "yaxis": "y",
         "type": "scatter"
        }
       ],
       "layout": {
        "template": {
         "data": {
          "histogram2dcontour": [
           {
            "type": "histogram2dcontour",
            "colorbar": {
             "outlinewidth": 0,
             "ticks": ""
            },
            "colorscale": [
             [
              0.0,
              "#0d0887"
             ],
             [
              0.1111111111111111,
              "#46039f"
             ],
             [
              0.2222222222222222,
              "#7201a8"
             ],
             [
              0.3333333333333333,
              "#9c179e"
             ],
             [
              0.4444444444444444,
              "#bd3786"
             ],
             [
              0.5555555555555556,
              "#d8576b"
             ],
             [
              0.6666666666666666,
              "#ed7953"
             ],
             [
              0.7777777777777778,
              "#fb9f3a"
             ],
             [
              0.8888888888888888,
              "#fdca26"
             ],
             [
              1.0,
              "#f0f921"
             ]
            ]
           }
          ],
          "choropleth": [
           {
            "type": "choropleth",
            "colorbar": {
             "outlinewidth": 0,
             "ticks": ""
            }
           }
          ],
          "histogram2d": [
           {
            "type": "histogram2d",
            "colorbar": {
             "outlinewidth": 0,
             "ticks": ""
            },
            "colorscale": [
             [
              0.0,
              "#0d0887"
             ],
             [
              0.1111111111111111,
              "#46039f"
             ],
             [
              0.2222222222222222,
              "#7201a8"
             ],
             [
              0.3333333333333333,
              "#9c179e"
             ],
             [
              0.4444444444444444,
              "#bd3786"
             ],
             [
              0.5555555555555556,
              "#d8576b"
             ],
             [
              0.6666666666666666,
              "#ed7953"
             ],
             [
              0.7777777777777778,
              "#fb9f3a"
             ],
             [
              0.8888888888888888,
              "#fdca26"
             ],
             [
              1.0,
              "#f0f921"
             ]
            ]
           }
          ],
          "heatmap": [
           {
            "type": "heatmap",
            "colorbar": {
             "outlinewidth": 0,
             "ticks": ""
            },
            "colorscale": [
             [
              0.0,
              "#0d0887"
             ],
             [
              0.1111111111111111,
              "#46039f"
             ],
             [
              0.2222222222222222,
              "#7201a8"
             ],
             [
              0.3333333333333333,
              "#9c179e"
             ],
             [
              0.4444444444444444,
              "#bd3786"
             ],
             [
              0.5555555555555556,
              "#d8576b"
             ],
             [
              0.6666666666666666,
              "#ed7953"
             ],
             [
              0.7777777777777778,
              "#fb9f3a"
             ],
             [
              0.8888888888888888,
              "#fdca26"
             ],
             [
              1.0,
              "#f0f921"
             ]
            ]
           }
          ],
          "heatmapgl": [
           {
            "type": "heatmapgl",
            "colorbar": {
             "outlinewidth": 0,
             "ticks": ""
            },
            "colorscale": [
             [
              0.0,
              "#0d0887"
             ],
             [
              0.1111111111111111,
              "#46039f"
             ],
             [
              0.2222222222222222,
              "#7201a8"
             ],
             [
              0.3333333333333333,
              "#9c179e"
             ],
             [
              0.4444444444444444,
              "#bd3786"
             ],
             [
              0.5555555555555556,
              "#d8576b"
             ],
             [
              0.6666666666666666,
              "#ed7953"
             ],
             [
              0.7777777777777778,
              "#fb9f3a"
             ],
             [
              0.8888888888888888,
              "#fdca26"
             ],
             [
              1.0,
              "#f0f921"
             ]
            ]
           }
          ],
          "contourcarpet": [
           {
            "type": "contourcarpet",
            "colorbar": {
             "outlinewidth": 0,
             "ticks": ""
            }
           }
          ],
          "contour": [
           {
            "type": "contour",
            "colorbar": {
             "outlinewidth": 0,
             "ticks": ""
            },
            "colorscale": [
             [
              0.0,
              "#0d0887"
             ],
             [
              0.1111111111111111,
              "#46039f"
             ],
             [
              0.2222222222222222,
              "#7201a8"
             ],
             [
              0.3333333333333333,
              "#9c179e"
             ],
             [
              0.4444444444444444,
              "#bd3786"
             ],
             [
              0.5555555555555556,
              "#d8576b"
             ],
             [
              0.6666666666666666,
              "#ed7953"
             ],
             [
              0.7777777777777778,
              "#fb9f3a"
             ],
             [
              0.8888888888888888,
              "#fdca26"
             ],
             [
              1.0,
              "#f0f921"
             ]
            ]
           }
          ],
          "surface": [
           {
            "type": "surface",
            "colorbar": {
             "outlinewidth": 0,
             "ticks": ""
            },
            "colorscale": [
             [
              0.0,
              "#0d0887"
             ],
             [
              0.1111111111111111,
              "#46039f"
             ],
             [
              0.2222222222222222,
              "#7201a8"
             ],
             [
              0.3333333333333333,
              "#9c179e"
             ],
             [
              0.4444444444444444,
              "#bd3786"
             ],
             [
              0.5555555555555556,
              "#d8576b"
             ],
             [
              0.6666666666666666,
              "#ed7953"
             ],
             [
              0.7777777777777778,
              "#fb9f3a"
             ],
             [
              0.8888888888888888,
              "#fdca26"
             ],
             [
              1.0,
              "#f0f921"
             ]
            ]
           }
          ],
          "mesh3d": [
           {
            "type": "mesh3d",
            "colorbar": {
             "outlinewidth": 0,
             "ticks": ""
            }
           }
          ],
          "scatter": [
           {
            "fillpattern": {
             "fillmode": "overlay",
             "size": 10,
             "solidity": 0.2
            },
            "type": "scatter"
           }
          ],
          "parcoords": [
           {
            "type": "parcoords",
            "line": {
             "colorbar": {
              "outlinewidth": 0,
              "ticks": ""
             }
            }
           }
          ],
          "scatterpolargl": [
           {
            "type": "scatterpolargl",
            "marker": {
             "colorbar": {
              "outlinewidth": 0,
              "ticks": ""
             }
            }
           }
          ],
          "bar": [
           {
            "error_x": {
             "color": "#2a3f5f"
            },
            "error_y": {
             "color": "#2a3f5f"
            },
            "marker": {
             "line": {
              "color": "#E5ECF6",
              "width": 0.5
             },
             "pattern": {
              "fillmode": "overlay",
              "size": 10,
              "solidity": 0.2
             }
            },
            "type": "bar"
           }
          ],
          "scattergeo": [
           {
            "type": "scattergeo",
            "marker": {
             "colorbar": {
              "outlinewidth": 0,
              "ticks": ""
             }
            }
           }
          ],
          "scatterpolar": [
           {
            "type": "scatterpolar",
            "marker": {
             "colorbar": {
              "outlinewidth": 0,
              "ticks": ""
             }
            }
           }
          ],
          "histogram": [
           {
            "marker": {
             "pattern": {
              "fillmode": "overlay",
              "size": 10,
              "solidity": 0.2
             }
            },
            "type": "histogram"
           }
          ],
          "scattergl": [
           {
            "type": "scattergl",
            "marker": {
             "colorbar": {
              "outlinewidth": 0,
              "ticks": ""
             }
            }
           }
          ],
          "scatter3d": [
           {
            "type": "scatter3d",
            "line": {
             "colorbar": {
              "outlinewidth": 0,
              "ticks": ""
             }
            },
            "marker": {
             "colorbar": {
              "outlinewidth": 0,
              "ticks": ""
             }
            }
           }
          ],
          "scattermapbox": [
           {
            "type": "scattermapbox",
            "marker": {
             "colorbar": {
              "outlinewidth": 0,
              "ticks": ""
             }
            }
           }
          ],
          "scatterternary": [
           {
            "type": "scatterternary",
            "marker": {
             "colorbar": {
              "outlinewidth": 0,
              "ticks": ""
             }
            }
           }
          ],
          "scattercarpet": [
           {
            "type": "scattercarpet",
            "marker": {
             "colorbar": {
              "outlinewidth": 0,
              "ticks": ""
             }
            }
           }
          ],
          "carpet": [
           {
            "aaxis": {
             "endlinecolor": "#2a3f5f",
             "gridcolor": "white",
             "linecolor": "white",
             "minorgridcolor": "white",
             "startlinecolor": "#2a3f5f"
            },
            "baxis": {
             "endlinecolor": "#2a3f5f",
             "gridcolor": "white",
             "linecolor": "white",
             "minorgridcolor": "white",
             "startlinecolor": "#2a3f5f"
            },
            "type": "carpet"
           }
          ],
          "table": [
           {
            "cells": {
             "fill": {
              "color": "#EBF0F8"
             },
             "line": {
              "color": "white"
             }
            },
            "header": {
             "fill": {
              "color": "#C8D4E3"
             },
             "line": {
              "color": "white"
             }
            },
            "type": "table"
           }
          ],
          "barpolar": [
           {
            "marker": {
             "line": {
              "color": "#E5ECF6",
              "width": 0.5
             },
             "pattern": {
              "fillmode": "overlay",
              "size": 10,
              "solidity": 0.2
             }
            },
            "type": "barpolar"
           }
          ],
          "pie": [
           {
            "automargin": true,
            "type": "pie"
           }
          ]
         },
         "layout": {
          "autotypenumbers": "strict",
          "colorway": [
           "#636efa",
           "#EF553B",
           "#00cc96",
           "#ab63fa",
           "#FFA15A",
           "#19d3f3",
           "#FF6692",
           "#B6E880",
           "#FF97FF",
           "#FECB52"
          ],
          "font": {
           "color": "#2a3f5f"
          },
          "hovermode": "closest",
          "hoverlabel": {
           "align": "left"
          },
          "paper_bgcolor": "white",
          "plot_bgcolor": "#E5ECF6",
          "polar": {
           "bgcolor": "#E5ECF6",
           "angularaxis": {
            "gridcolor": "white",
            "linecolor": "white",
            "ticks": ""
           },
           "radialaxis": {
            "gridcolor": "white",
            "linecolor": "white",
            "ticks": ""
           }
          },
          "ternary": {
           "bgcolor": "#E5ECF6",
           "aaxis": {
            "gridcolor": "white",
            "linecolor": "white",
            "ticks": ""
           },
           "baxis": {
            "gridcolor": "white",
            "linecolor": "white",
            "ticks": ""
           },
           "caxis": {
            "gridcolor": "white",
            "linecolor": "white",
            "ticks": ""
           }
          },
          "coloraxis": {
           "colorbar": {
            "outlinewidth": 0,
            "ticks": ""
           }
          },
          "colorscale": {
           "sequential": [
            [
             0.0,
             "#0d0887"
            ],
            [
             0.1111111111111111,
             "#46039f"
            ],
            [
             0.2222222222222222,
             "#7201a8"
            ],
            [
             0.3333333333333333,
             "#9c179e"
            ],
            [
             0.4444444444444444,
             "#bd3786"
            ],
            [
             0.5555555555555556,
             "#d8576b"
            ],
            [
             0.6666666666666666,
             "#ed7953"
            ],
            [
             0.7777777777777778,
             "#fb9f3a"
            ],
            [
             0.8888888888888888,
             "#fdca26"
            ],
            [
             1.0,
             "#f0f921"
            ]
           ],
           "sequentialminus": [
            [
             0.0,
             "#0d0887"
            ],
            [
             0.1111111111111111,
             "#46039f"
            ],
            [
             0.2222222222222222,
             "#7201a8"
            ],
            [
             0.3333333333333333,
             "#9c179e"
            ],
            [
             0.4444444444444444,
             "#bd3786"
            ],
            [
             0.5555555555555556,
             "#d8576b"
            ],
            [
             0.6666666666666666,
             "#ed7953"
            ],
            [
             0.7777777777777778,
             "#fb9f3a"
            ],
            [
             0.8888888888888888,
             "#fdca26"
            ],
            [
             1.0,
             "#f0f921"
            ]
           ],
           "diverging": [
            [
             0,
             "#8e0152"
            ],
            [
             0.1,
             "#c51b7d"
            ],
            [
             0.2,
             "#de77ae"
            ],
            [
             0.3,
             "#f1b6da"
            ],
            [
             0.4,
             "#fde0ef"
            ],
            [
             0.5,
             "#f7f7f7"
            ],
            [
             0.6,
             "#e6f5d0"
            ],
            [
             0.7,
             "#b8e186"
            ],
            [
             0.8,
             "#7fbc41"
            ],
            [
             0.9,
             "#4d9221"
            ],
            [
             1,
             "#276419"
            ]
           ]
          },
          "xaxis": {
           "gridcolor": "white",
           "linecolor": "white",
           "ticks": "",
           "title": {
            "standoff": 15
           },
           "zerolinecolor": "white",
           "automargin": true,
           "zerolinewidth": 2
          },
          "yaxis": {
           "gridcolor": "white",
           "linecolor": "white",
           "ticks": "",
           "title": {
            "standoff": 15
           },
           "zerolinecolor": "white",
           "automargin": true,
           "zerolinewidth": 2
          },
          "scene": {
           "xaxis": {
            "backgroundcolor": "#E5ECF6",
            "gridcolor": "white",
            "linecolor": "white",
            "showbackground": true,
            "ticks": "",
            "zerolinecolor": "white",
            "gridwidth": 2
           },
           "yaxis": {
            "backgroundcolor": "#E5ECF6",
            "gridcolor": "white",
            "linecolor": "white",
            "showbackground": true,
            "ticks": "",
            "zerolinecolor": "white",
            "gridwidth": 2
           },
           "zaxis": {
            "backgroundcolor": "#E5ECF6",
            "gridcolor": "white",
            "linecolor": "white",
            "showbackground": true,
            "ticks": "",
            "zerolinecolor": "white",
            "gridwidth": 2
           }
          },
          "shapedefaults": {
           "line": {
            "color": "#2a3f5f"
           }
          },
          "annotationdefaults": {
           "arrowcolor": "#2a3f5f",
           "arrowhead": 0,
           "arrowwidth": 1
          },
          "geo": {
           "bgcolor": "white",
           "landcolor": "#E5ECF6",
           "subunitcolor": "white",
           "showland": true,
           "showlakes": true,
           "lakecolor": "white"
          },
          "title": {
           "x": 0.05
          },
          "mapbox": {
           "style": "light"
          }
         }
        },
        "xaxis": {
         "anchor": "y",
         "domain": [
          0.0,
          1.0
         ],
         "title": {
          "text": "0"
         }
        },
        "yaxis": {
         "anchor": "x",
         "domain": [
          0.0,
          1.0
         ],
         "title": {
          "text": "1"
         }
        },
        "legend": {
         "title": {
          "text": "color"
         },
         "tracegroupgap": 0
        },
        "margin": {
         "t": 60
        }
       },
       "config": {
        "plotlyServerURL": "https://plot.ly"
       }
      },
      "text/html": "<div>                            <div id=\"29ca2b89-48a0-4ca1-857e-d93303289a9c\" class=\"plotly-graph-div\" style=\"height:525px; width:100%;\"></div>            <script type=\"text/javascript\">                require([\"plotly\"], function(Plotly) {                    window.PLOTLYENV=window.PLOTLYENV || {};                                    if (document.getElementById(\"29ca2b89-48a0-4ca1-857e-d93303289a9c\")) {                    Plotly.newPlot(                        \"29ca2b89-48a0-4ca1-857e-d93303289a9c\",                        [{\"hovertemplate\":\"color=KNN<br>0=%{x}<br>1=%{y}<extra></extra>\",\"legendgroup\":\"KNN\",\"marker\":{\"color\":\"#636efa\",\"symbol\":\"circle\"},\"mode\":\"markers\",\"name\":\"KNN\",\"orientation\":\"v\",\"showlegend\":true,\"x\":[-0.07578017636274444,-0.28279704975857667,-0.6286759848486532,-0.07839740552892357,-0.46666655591626194,-0.7734634373477143,-0.18551617263939263,-0.022756738432551087,-0.14683234613667112,0.13194215616366403,0.01969574982815212,0.2981958870756008,0.08248354226712448,0.1546611780110491,-2.719695307728028,-0.13040136258743662,-1.3024751827554808,-0.24594211441217056,-1.1883129394733567,-0.3047705968056392,0.424304767118127,0.4394393588264363,0.8799559536470161,0.8021033768442871,0.9683270894011725,0.45237793002653826,-0.13147749061413916,-0.6471974832086712,-0.13345117482724922,-0.052508453343030774,0.3387216387792672,0.24381338610793488,0.1807054131809182,0.08480327147131245,-0.16514539718944463,-2.356646285001004,-2.31805670024417,-2.36702043280175,-0.21902658407624384,-0.4547252474822632,-0.19396847261350902,-0.5157207726737904,-0.030617307463084994,-0.6300968264773138,-0.05589084285562725,-0.6355482304374802,0.04386637127937302,0.018662969818447794,-0.8058459010268358,-1.4134243960072506,0.061655923171107595,-0.8408225796121045,-0.97391171110142,-0.4863041076643426,-0.24944247074572803,0.015124063218008186,-0.2400960525407352,-0.107727521856406,-0.5242754889918139,-0.0023142157712729,0.4906746661217344,-0.5795801823972972,0.12182982602859693,-0.0781332582571901,-0.5033396893880114,0.041344269418339796,0.0877408882566621,-0.12318915107379529,0.233193327556552,-0.36056821779431686,-0.49807012901788783,-0.5847360430458804,-0.04810482636674537,-0.07000350965262238,0.016409836632789762,-0.09753765337371868,-0.13480986126839445,-0.08847329034359651,0.24582715283161136,0.16766136860670824,-0.8069526787066249,-0.06932995782346148,-1.572346254776501,-0.24700972363843765,-0.1656868833871267,-0.46852160684504185,0.42041047833064993,-0.6679606946140769],\"xaxis\":\"x\",\"y\":[-0.015857986254274665,-0.2734329871999583,-0.0021001106192962008,-0.01282839763644798,-0.20420491500782134,0.41437662876575365,-0.02110015491618369,-0.49907849963983636,-0.09732323892875341,-0.3217268743522349,-0.0540117585568914,-0.3880607699894391,-0.2878744283866566,-0.3592083438443149,0.5783194914584995,-0.10790259782692407,0.07179440818678698,-0.24430688509529958,-0.30471682597225175,-0.37740981731981005,-0.38699137930920074,-0.38209552032572003,-0.6303435972065563,-0.5784481937427304,-0.7219895802721588,-0.41505857198675766,-0.09966487554771523,-0.2859942668908362,-0.1787067544798578,-0.8700012953833571,-0.7216415299285288,-0.4656720559704654,-0.39424571888385734,-0.4869860910282789,0.16270164839484022,-0.162208430106876,-0.17217949186344528,-0.13723647155745938,-0.14108830959297083,-0.35616382722582934,-0.09616403528933849,-0.2573874728964781,-0.3617461096625285,-0.27599026758730844,-0.20009699812627058,0.18965078905899527,-0.2361542208058771,-0.2091187913332543,0.03516935132130599,-0.05330805822013852,-0.2231476577073307,0.03939558772285896,1.002774279592394,-0.03797286574106044,-0.2930932347079121,-0.15593323499057088,-0.09935630267263675,-0.10829562566050159,0.46048932752324634,-0.48401128781715824,-0.5009176371731057,0.5157565327616258,-0.34566304833930217,-0.145679209153959,-0.2054449674116886,-0.25983516885276253,-0.2466055785686579,-0.19116496600234986,-0.31516312771152727,0.24296346419121886,0.09974504268153003,0.01531193354848103,-0.12623706628922599,-0.1594554255032897,-0.18582854994149178,-0.012335304483763016,-0.13981900218509435,-0.1641420446775675,-0.23104412684481215,-0.18286848669687977,0.9440675877861171,-0.24233426771664107,-0.0803002666089531,-0.002806055771944494,0.009717956412895586,-0.25666659779836687,-0.32237431622048685,0.07712367384027459],\"yaxis\":\"y\",\"type\":\"scatter\"},{\"hovertemplate\":\"color=DT<br>0=%{x}<br>1=%{y}<extra></extra>\",\"legendgroup\":\"DT\",\"marker\":{\"color\":\"#EF553B\",\"symbol\":\"circle\"},\"mode\":\"markers\",\"name\":\"DT\",\"orientation\":\"v\",\"showlegend\":true,\"x\":[0.15989878454102824,-0.02800568825150218,-0.0730539052335424,-0.35564875330558676,0.09598045251137838,0.07316362467825296,0.15853506309674895,-0.7286093802643996,0.06416072416189098,-0.8291137805064666,-0.6903520333786931,-0.43403600458633207,-0.18668942704427496,-0.23587683976614268,0.4631009238752013,-1.159096202459478,-0.16817984777876363,-0.1590092298766391,-0.25647592785194817,-0.11688508460268265,-0.28031910611113375,-0.8540688721538819,0.36734490778451834,-0.22570327774705448,0.3863709447401156,-0.10507154816991801,0.36466945008850504,-0.12232833604389154,0.244367992456381,0.002297941348124575,0.08292668451642139,0.03565091178383254,0.051495708697282414,-0.16146635583129443,-0.3382876914837395,-0.11979281098799144,0.046376576499910255,-0.10474826384821426,-0.2006317917721063,-0.05607344979726593,-0.2602784806656863,0.2797136637449577,-0.14915111708206905,-0.06087120897287542,-0.462377305087021,0.19955699217299108,-0.05981094846771882,0.19010853366088393,-0.02384192144860763,-0.0869192544499636,0.17048276764309298,-0.06514064099629434,0.1928411927975917,0.22324861537382404,-1.3620537213829493,0.12575254159698906,0.0692680556700292,0.073817462042849,-0.15824096022837006,-0.6076815768111125,0.14101738833977126,-0.23621705802875018,-0.5655890076329887,-0.7226612459987288,-0.25377767621551467,-0.12359214608494493,0.1060122901228055,-2.623309365076204,0.04046462072758204,-0.05377481702671038,0.13788270665211447,-0.11569136676284972,-0.42822989383430876,0.4384759210637922,-0.018653071860660824,-0.0983887303312637,0.04866711488613134,-0.08016246098643573,0.24927312346892444,0.25831064408346993,-0.17127063288705316,-0.821329207187284,-0.8113435210000849,0.024719397080400475,-1.2062774055519458,-0.9739723249391595,-0.19100249212487075,-0.3692898552051423,-0.3195762963994545,-0.06797495212248635,-0.09620281462040628,-0.443137803158513,-0.016816134415345123,-0.0577649713248107,0.06115123649610578,0.030835916898620943,0.00933224184205952,-0.6773580347589904,0.14036969802188085,-0.3191360818609056,-0.27003878346330196,-0.024032688590522724,-0.2264862748746545,-0.14086046275647593,0.1470476173654309,0.9235765774581296,-0.8404093082031842,-0.5305132357304352,0.0057383869400741165,-0.6077119009673727,-0.03786590348387056,-0.44723423890828984,-1.107813700673144,-1.2720620489637435,-0.16580923605739198,-0.031197754143814906,-0.15635933933184082,-0.341885211151513,-0.2538736571551961,-0.8742035100121938,0.06236602540603802,-0.3148853764856753,0.1384283524507258,0.0341897889544587,-0.05100522762132112,-0.0948072144179246,0.18129950616399285,-0.8118668994762798,-0.5740203097299841,-0.002183833845616222,-0.46366675829892157,0.15509010469409684,-0.8946797339262181,-0.16482165883717093,-0.5945233937533145,-0.36749871500225373,0.009909053234520236,0.014765509710314765,-1.5895866240176486,-0.3398051832104639,-0.2741620227040163,0.06405646873734266,-0.032476339419621525,-0.12330779482537117,0.08279413419510757,0.11012865636936998,0.07812639421142678,-0.32827408329950203,-0.0005733583280184727,-0.22877112476324937,-0.010861176858718857,-0.9305851162390735,-0.38632773969407724,0.03394725443619548,-0.5445997522158044,-1.7759832867964882,-0.9135776714793659,-0.5634772373098438,-0.20553191317253786,0.007258794989606595,-0.28683292689176954,-0.7704373358254044],\"xaxis\":\"x\",\"y\":[-0.36734570757110896,-0.14473522743968548,-0.2113720882847585,1.507024245761771,-0.34291204845514245,-0.26801308275294555,-0.22236305545310028,0.12298280562629231,-0.2648238913185222,0.06186684938345149,-0.22107520954007737,-0.3585811919596593,0.4367932393182949,0.23366604288574774,-0.4018311913930426,-0.13490815792457833,-0.6128670768195607,-0.6317656733693018,-0.5392214594868877,-0.4644711033983659,-0.36641281814136445,-0.07423862436472128,-0.4667247976065162,-0.36780754836678414,-0.343495867153163,-0.5202328989822012,-0.5071036829707499,-0.4290026610338768,-0.20030250986281764,-0.18817452150450623,-0.28008552500463396,-0.22729314301386133,-0.2813645626679517,-0.1180798598715578,-0.22675181424807425,-0.24431201145119769,-0.2648673049253737,-0.6023715672976835,0.20838942896036808,-0.09796328847889686,-0.15685672582688331,-0.3472034494558174,-0.08725837849677368,-0.24341796879577096,0.4108052300557224,-0.38339000923570965,-0.19100587215806802,-0.44175689689800895,-0.33942027636411853,-0.06162258263686036,-0.27921990181476336,-0.4169493337929253,-0.3692731917888107,-0.20896366426043889,1.396254891882714,-0.28310076866526906,-0.24459408875023292,-0.24796524510458634,-0.3472764250290215,0.09894698410712058,-0.20191094603881596,-0.2977219650803995,0.03969072126962583,-0.07688084263158683,-0.4171594002915335,-0.17189059174602467,-0.03710728723988475,0.025433320209784453,-0.3398030605650814,-0.23064671789789284,-0.31021791347317995,-0.2492133234345718,-0.37643602936828213,-0.46877063993482915,-0.14778122087016107,-0.3619434013764478,-0.10071830509624173,-0.22514010580109792,-0.3520802972798908,-0.25599403410707144,-0.15257829948591028,-0.2864784043794037,0.017283461340292905,-0.34050649924017035,-0.14817352386767316,-0.345510613841041,-0.2579120594408615,-0.592610759065795,-0.3822332849125316,-0.13944357921411898,-0.44250384851344565,-0.15243590826964748,-0.19197080815813475,-0.23847460938703913,-0.08278531178543513,-0.27472971098686233,-0.25626071488967933,0.21072772546051108,-0.2134404454117799,-0.11923220193970412,-0.15493201556806077,-0.243744762137613,-0.25174417888166245,-0.2735785392686134,-0.35377956852329373,-0.7669981846522025,-0.43680032896296317,0.13283182030227697,-0.18649074061175186,-0.38424142246334747,-0.18213794101599828,-0.46327667949655815,0.9517833936205797,0.12866053179760922,-0.31908651863721527,-0.2622288259010944,0.21012476444007758,-0.05506186781798271,-0.4429150149509325,-0.5740057556461309,-0.17746692187841714,0.828044927566094,-0.1908571778607791,-0.3511293160943744,-0.20988228492669103,-0.3242356196778967,-0.3498775593325309,0.3078890292882735,-0.42353607482808,-0.028846267819572294,-0.27266185159621226,-0.2565174169840491,-0.037306792988008396,-0.054934417807189044,-0.2457564249016781,-0.3439416597346887,-0.24601662092074295,-0.29239334989926813,2.291667162560758,-0.003301873178922502,-0.11082692343799111,-0.016735527717846383,-0.19611508803748576,-0.052883237672465576,-0.19041366276032562,-0.3163267460137591,-0.30007022973890624,-0.04298302586473116,-0.23628451708898507,-0.14132042026082883,0.5451101398634794,0.03363423748419617,-0.17327862665053229,-0.31231034570933613,-0.25363543828373536,0.2525134758771501,0.636323299139351,0.022206522143088173,-0.27194487431691505,-0.1458319690843306,-0.006009977582945218,-0.028278846091190014],\"yaxis\":\"y\",\"type\":\"scatter\"},{\"hovertemplate\":\"color=SVM<br>0=%{x}<br>1=%{y}<extra></extra>\",\"legendgroup\":\"SVM\",\"marker\":{\"color\":\"#00cc96\",\"symbol\":\"circle\"},\"mode\":\"markers\",\"name\":\"SVM\",\"orientation\":\"v\",\"showlegend\":true,\"x\":[0.4644558088464978,0.36562315987244,-0.06415537781872593,0.20539097196475686,0.27927793137662105,0.7251504394061519,-0.9762938269773875,0.5691559846187394,-0.5863398512818393,-0.13124094079415327,-0.1001185134035368,0.11304838299200307,-0.100343640680129,0.07917944407629353,0.21314079710112213,-0.43349957022933994,-1.1420644388709118,-0.32620408256724764,-0.2798983194706785,0.446832439955535,0.8726417602350083,0.760358408664185,0.789955171601632,0.8540122442968273,0.870155576448415,0.9917899604071554,0.9355179542112623,0.4019960902662933,0.4336517185111423,0.39674635339791536,0.41233552390887035,0.31941327498808825,-0.9610901191158066,0.15278735826885895,0.290728932516118,-0.1353676346135507,0.28437753589685283,-2.290340666370086,-0.2207296190271465,-0.1112891465808319,-0.700571936667759,-0.14310787563577973,0.1160791831780014,0.6330879151340637,-0.06581512534213826,-0.06150788721673591,0.32244552040384133,0.056303705362419465,0.13825349927172031,-0.13694778798531015,0.047927228476100016,-0.0006454520881243462,0.23079337757180102,0.07898557702906012,-0.10443361970259439,-0.24068031896130332,-0.14404666029967728,0.11239822514264523,0.6727420085112739,0.08818195500735387,0.3243883639323098,0.133760708177429,-0.4562101516062805,-0.05133715820473519,0.11321460674093721,0.12393891271798105,0.24731993600160576,-0.0425225867364581,0.19389837876071497,0.05134902194878237,-0.467517060067976,0.27335913653650323,0.0060979185206589325,0.27839452768548606,0.18245256550221017,0.011079334701433777,-0.35115694342489023,-0.014881640098034667,0.11304627887961022,-0.40205333091145834,0.1912366599043433,0.16521386283719794,0.20450915115829607,0.05114467998345257,0.3016936053583336,0.060630752431658594,-0.07195625026779622,0.13956571507884588,0.40879547424571683,-0.48927639128803924,0.1209100701588218,-0.5909761024229103,0.6588656128368678,-0.3620630422453751,-0.620031150830015,0.08350613029953755,-0.40492873994931533,-1.5111783799534226,0.10871101346431791,0.22539601816580057,0.13868432079642024,0.17187391701067034,-0.20603749945630534],\"xaxis\":\"x\",\"y\":[-0.6078267514327818,-0.4914448415235267,-0.20168117714604158,-0.4000188434547497,-0.42242396840564944,-0.6083297943135414,-0.21626106813131016,-0.7713778339250376,0.2234785650053943,-0.2142029352298101,-0.17229342360603486,-0.3100186920593047,-0.17183941911056494,-0.1861712828706669,-0.27668337800392184,-0.3260619886115035,-0.35342434812311524,-0.08620665400245404,-0.11444042064808797,-0.4015708062963089,-0.6260984911667765,-0.5470289232871115,-0.5697309068560186,-0.6119609681177816,-0.6425248240477218,-0.7256896343799674,-0.685401715574289,-0.36113043663129396,-0.3885716584217481,-0.35643113275871646,-0.364985056591978,-0.5400005274926694,-0.29675848262120635,-0.43485943538544053,-0.374573298846546,-0.21426239249222886,-0.44090257106833936,-0.20814944768528976,-0.24402732164844437,-0.2963388007967431,0.375856530867649,-0.1817367909679191,-0.30027091103415304,-1.048577110083762,-0.28603393327488885,-0.15995932556085127,-0.3854026486148698,-0.1759181997865197,-0.41573323338497703,-0.24398814481112593,-0.2790049003679936,-0.26655048167747813,-0.30515046710896176,-0.34086443063544164,-0.1038858216337091,-0.3157124958502924,-0.2006376421110722,-0.3036423295249256,-0.6276963887201019,-0.32565963743480947,-0.3940601323959633,-0.27392341992599617,-0.11054883442578085,-0.475208915216866,-0.2621583922111609,-0.36972169643792796,-0.378587419163592,-0.29332243865419094,0.3520021760817194,-0.2518190370203831,-0.07624691017875448,-0.42114052678144387,-0.15440378630395785,-0.41259237967413454,-0.39948702582706724,-0.21824178842996367,-0.06838223467257534,-0.1773649090232708,-0.21855207804762955,-0.16580786977534798,-0.2751701316138234,0.1919139634498077,-0.31898917433703855,-0.36907558221326586,-0.3949107282202813,-0.2952547808023948,-0.18239642685819504,-0.28701631160112534,-0.43549247246228323,1.5013401112903306,-0.2917751673726041,0.7905350510952336,-0.5969732036602862,0.5673262818568366,0.765669298330314,-0.22408720031474,-0.49374964351511924,-0.07768294304520657,-0.1627675359450501,-0.27839946219181066,-0.32642553279223374,-0.32555137205150836,-0.10891435627306269],\"yaxis\":\"y\",\"type\":\"scatter\"}],                        {\"template\":{\"data\":{\"histogram2dcontour\":[{\"type\":\"histogram2dcontour\",\"colorbar\":{\"outlinewidth\":0,\"ticks\":\"\"},\"colorscale\":[[0.0,\"#0d0887\"],[0.1111111111111111,\"#46039f\"],[0.2222222222222222,\"#7201a8\"],[0.3333333333333333,\"#9c179e\"],[0.4444444444444444,\"#bd3786\"],[0.5555555555555556,\"#d8576b\"],[0.6666666666666666,\"#ed7953\"],[0.7777777777777778,\"#fb9f3a\"],[0.8888888888888888,\"#fdca26\"],[1.0,\"#f0f921\"]]}],\"choropleth\":[{\"type\":\"choropleth\",\"colorbar\":{\"outlinewidth\":0,\"ticks\":\"\"}}],\"histogram2d\":[{\"type\":\"histogram2d\",\"colorbar\":{\"outlinewidth\":0,\"ticks\":\"\"},\"colorscale\":[[0.0,\"#0d0887\"],[0.1111111111111111,\"#46039f\"],[0.2222222222222222,\"#7201a8\"],[0.3333333333333333,\"#9c179e\"],[0.4444444444444444,\"#bd3786\"],[0.5555555555555556,\"#d8576b\"],[0.6666666666666666,\"#ed7953\"],[0.7777777777777778,\"#fb9f3a\"],[0.8888888888888888,\"#fdca26\"],[1.0,\"#f0f921\"]]}],\"heatmap\":[{\"type\":\"heatmap\",\"colorbar\":{\"outlinewidth\":0,\"ticks\":\"\"},\"colorscale\":[[0.0,\"#0d0887\"],[0.1111111111111111,\"#46039f\"],[0.2222222222222222,\"#7201a8\"],[0.3333333333333333,\"#9c179e\"],[0.4444444444444444,\"#bd3786\"],[0.5555555555555556,\"#d8576b\"],[0.6666666666666666,\"#ed7953\"],[0.7777777777777778,\"#fb9f3a\"],[0.8888888888888888,\"#fdca26\"],[1.0,\"#f0f921\"]]}],\"heatmapgl\":[{\"type\":\"heatmapgl\",\"colorbar\":{\"outlinewidth\":0,\"ticks\":\"\"},\"colorscale\":[[0.0,\"#0d0887\"],[0.1111111111111111,\"#46039f\"],[0.2222222222222222,\"#7201a8\"],[0.3333333333333333,\"#9c179e\"],[0.4444444444444444,\"#bd3786\"],[0.5555555555555556,\"#d8576b\"],[0.6666666666666666,\"#ed7953\"],[0.7777777777777778,\"#fb9f3a\"],[0.8888888888888888,\"#fdca26\"],[1.0,\"#f0f921\"]]}],\"contourcarpet\":[{\"type\":\"contourcarpet\",\"colorbar\":{\"outlinewidth\":0,\"ticks\":\"\"}}],\"contour\":[{\"type\":\"contour\",\"colorbar\":{\"outlinewidth\":0,\"ticks\":\"\"},\"colorscale\":[[0.0,\"#0d0887\"],[0.1111111111111111,\"#46039f\"],[0.2222222222222222,\"#7201a8\"],[0.3333333333333333,\"#9c179e\"],[0.4444444444444444,\"#bd3786\"],[0.5555555555555556,\"#d8576b\"],[0.6666666666666666,\"#ed7953\"],[0.7777777777777778,\"#fb9f3a\"],[0.8888888888888888,\"#fdca26\"],[1.0,\"#f0f921\"]]}],\"surface\":[{\"type\":\"surface\",\"colorbar\":{\"outlinewidth\":0,\"ticks\":\"\"},\"colorscale\":[[0.0,\"#0d0887\"],[0.1111111111111111,\"#46039f\"],[0.2222222222222222,\"#7201a8\"],[0.3333333333333333,\"#9c179e\"],[0.4444444444444444,\"#bd3786\"],[0.5555555555555556,\"#d8576b\"],[0.6666666666666666,\"#ed7953\"],[0.7777777777777778,\"#fb9f3a\"],[0.8888888888888888,\"#fdca26\"],[1.0,\"#f0f921\"]]}],\"mesh3d\":[{\"type\":\"mesh3d\",\"colorbar\":{\"outlinewidth\":0,\"ticks\":\"\"}}],\"scatter\":[{\"fillpattern\":{\"fillmode\":\"overlay\",\"size\":10,\"solidity\":0.2},\"type\":\"scatter\"}],\"parcoords\":[{\"type\":\"parcoords\",\"line\":{\"colorbar\":{\"outlinewidth\":0,\"ticks\":\"\"}}}],\"scatterpolargl\":[{\"type\":\"scatterpolargl\",\"marker\":{\"colorbar\":{\"outlinewidth\":0,\"ticks\":\"\"}}}],\"bar\":[{\"error_x\":{\"color\":\"#2a3f5f\"},\"error_y\":{\"color\":\"#2a3f5f\"},\"marker\":{\"line\":{\"color\":\"#E5ECF6\",\"width\":0.5},\"pattern\":{\"fillmode\":\"overlay\",\"size\":10,\"solidity\":0.2}},\"type\":\"bar\"}],\"scattergeo\":[{\"type\":\"scattergeo\",\"marker\":{\"colorbar\":{\"outlinewidth\":0,\"ticks\":\"\"}}}],\"scatterpolar\":[{\"type\":\"scatterpolar\",\"marker\":{\"colorbar\":{\"outlinewidth\":0,\"ticks\":\"\"}}}],\"histogram\":[{\"marker\":{\"pattern\":{\"fillmode\":\"overlay\",\"size\":10,\"solidity\":0.2}},\"type\":\"histogram\"}],\"scattergl\":[{\"type\":\"scattergl\",\"marker\":{\"colorbar\":{\"outlinewidth\":0,\"ticks\":\"\"}}}],\"scatter3d\":[{\"type\":\"scatter3d\",\"line\":{\"colorbar\":{\"outlinewidth\":0,\"ticks\":\"\"}},\"marker\":{\"colorbar\":{\"outlinewidth\":0,\"ticks\":\"\"}}}],\"scattermapbox\":[{\"type\":\"scattermapbox\",\"marker\":{\"colorbar\":{\"outlinewidth\":0,\"ticks\":\"\"}}}],\"scatterternary\":[{\"type\":\"scatterternary\",\"marker\":{\"colorbar\":{\"outlinewidth\":0,\"ticks\":\"\"}}}],\"scattercarpet\":[{\"type\":\"scattercarpet\",\"marker\":{\"colorbar\":{\"outlinewidth\":0,\"ticks\":\"\"}}}],\"carpet\":[{\"aaxis\":{\"endlinecolor\":\"#2a3f5f\",\"gridcolor\":\"white\",\"linecolor\":\"white\",\"minorgridcolor\":\"white\",\"startlinecolor\":\"#2a3f5f\"},\"baxis\":{\"endlinecolor\":\"#2a3f5f\",\"gridcolor\":\"white\",\"linecolor\":\"white\",\"minorgridcolor\":\"white\",\"startlinecolor\":\"#2a3f5f\"},\"type\":\"carpet\"}],\"table\":[{\"cells\":{\"fill\":{\"color\":\"#EBF0F8\"},\"line\":{\"color\":\"white\"}},\"header\":{\"fill\":{\"color\":\"#C8D4E3\"},\"line\":{\"color\":\"white\"}},\"type\":\"table\"}],\"barpolar\":[{\"marker\":{\"line\":{\"color\":\"#E5ECF6\",\"width\":0.5},\"pattern\":{\"fillmode\":\"overlay\",\"size\":10,\"solidity\":0.2}},\"type\":\"barpolar\"}],\"pie\":[{\"automargin\":true,\"type\":\"pie\"}]},\"layout\":{\"autotypenumbers\":\"strict\",\"colorway\":[\"#636efa\",\"#EF553B\",\"#00cc96\",\"#ab63fa\",\"#FFA15A\",\"#19d3f3\",\"#FF6692\",\"#B6E880\",\"#FF97FF\",\"#FECB52\"],\"font\":{\"color\":\"#2a3f5f\"},\"hovermode\":\"closest\",\"hoverlabel\":{\"align\":\"left\"},\"paper_bgcolor\":\"white\",\"plot_bgcolor\":\"#E5ECF6\",\"polar\":{\"bgcolor\":\"#E5ECF6\",\"angularaxis\":{\"gridcolor\":\"white\",\"linecolor\":\"white\",\"ticks\":\"\"},\"radialaxis\":{\"gridcolor\":\"white\",\"linecolor\":\"white\",\"ticks\":\"\"}},\"ternary\":{\"bgcolor\":\"#E5ECF6\",\"aaxis\":{\"gridcolor\":\"white\",\"linecolor\":\"white\",\"ticks\":\"\"},\"baxis\":{\"gridcolor\":\"white\",\"linecolor\":\"white\",\"ticks\":\"\"},\"caxis\":{\"gridcolor\":\"white\",\"linecolor\":\"white\",\"ticks\":\"\"}},\"coloraxis\":{\"colorbar\":{\"outlinewidth\":0,\"ticks\":\"\"}},\"colorscale\":{\"sequential\":[[0.0,\"#0d0887\"],[0.1111111111111111,\"#46039f\"],[0.2222222222222222,\"#7201a8\"],[0.3333333333333333,\"#9c179e\"],[0.4444444444444444,\"#bd3786\"],[0.5555555555555556,\"#d8576b\"],[0.6666666666666666,\"#ed7953\"],[0.7777777777777778,\"#fb9f3a\"],[0.8888888888888888,\"#fdca26\"],[1.0,\"#f0f921\"]],\"sequentialminus\":[[0.0,\"#0d0887\"],[0.1111111111111111,\"#46039f\"],[0.2222222222222222,\"#7201a8\"],[0.3333333333333333,\"#9c179e\"],[0.4444444444444444,\"#bd3786\"],[0.5555555555555556,\"#d8576b\"],[0.6666666666666666,\"#ed7953\"],[0.7777777777777778,\"#fb9f3a\"],[0.8888888888888888,\"#fdca26\"],[1.0,\"#f0f921\"]],\"diverging\":[[0,\"#8e0152\"],[0.1,\"#c51b7d\"],[0.2,\"#de77ae\"],[0.3,\"#f1b6da\"],[0.4,\"#fde0ef\"],[0.5,\"#f7f7f7\"],[0.6,\"#e6f5d0\"],[0.7,\"#b8e186\"],[0.8,\"#7fbc41\"],[0.9,\"#4d9221\"],[1,\"#276419\"]]},\"xaxis\":{\"gridcolor\":\"white\",\"linecolor\":\"white\",\"ticks\":\"\",\"title\":{\"standoff\":15},\"zerolinecolor\":\"white\",\"automargin\":true,\"zerolinewidth\":2},\"yaxis\":{\"gridcolor\":\"white\",\"linecolor\":\"white\",\"ticks\":\"\",\"title\":{\"standoff\":15},\"zerolinecolor\":\"white\",\"automargin\":true,\"zerolinewidth\":2},\"scene\":{\"xaxis\":{\"backgroundcolor\":\"#E5ECF6\",\"gridcolor\":\"white\",\"linecolor\":\"white\",\"showbackground\":true,\"ticks\":\"\",\"zerolinecolor\":\"white\",\"gridwidth\":2},\"yaxis\":{\"backgroundcolor\":\"#E5ECF6\",\"gridcolor\":\"white\",\"linecolor\":\"white\",\"showbackground\":true,\"ticks\":\"\",\"zerolinecolor\":\"white\",\"gridwidth\":2},\"zaxis\":{\"backgroundcolor\":\"#E5ECF6\",\"gridcolor\":\"white\",\"linecolor\":\"white\",\"showbackground\":true,\"ticks\":\"\",\"zerolinecolor\":\"white\",\"gridwidth\":2}},\"shapedefaults\":{\"line\":{\"color\":\"#2a3f5f\"}},\"annotationdefaults\":{\"arrowcolor\":\"#2a3f5f\",\"arrowhead\":0,\"arrowwidth\":1},\"geo\":{\"bgcolor\":\"white\",\"landcolor\":\"#E5ECF6\",\"subunitcolor\":\"white\",\"showland\":true,\"showlakes\":true,\"lakecolor\":\"white\"},\"title\":{\"x\":0.05},\"mapbox\":{\"style\":\"light\"}}},\"xaxis\":{\"anchor\":\"y\",\"domain\":[0.0,1.0],\"title\":{\"text\":\"0\"}},\"yaxis\":{\"anchor\":\"x\",\"domain\":[0.0,1.0],\"title\":{\"text\":\"1\"}},\"legend\":{\"title\":{\"text\":\"color\"},\"tracegroupgap\":0},\"margin\":{\"t\":60}},                        {\"responsive\": true}                    ).then(function(){\n                            \nvar gd = document.getElementById('29ca2b89-48a0-4ca1-857e-d93303289a9c');\nvar x = new MutationObserver(function (mutations, observer) {{\n        var display = window.getComputedStyle(gd).display;\n        if (!display || display === 'none') {{\n            console.log([gd, 'removed!']);\n            Plotly.purge(gd);\n            observer.disconnect();\n        }}\n}});\n\n// Listen for the removal of the full notebook cells\nvar notebookContainer = gd.closest('#notebook-container');\nif (notebookContainer) {{\n    x.observe(notebookContainer, {childList: true});\n}}\n\n// Listen for the clearing of the current output cell\nvar outputEl = gd.closest('.output');\nif (outputEl) {{\n    x.observe(outputEl, {childList: true});\n}}\n\n                        })                };                });            </script>        </div>"
     },
     "metadata": {},
     "output_type": "display_data"
    }
   ],
   "source": [
    "import plotly.express as px\n",
    "from sklearn.decomposition import PCA\n",
    "from sklearn.preprocessing import StandardScaler\n",
    "from sklearn.pipeline import Pipeline\n",
    "\n",
    "df = pd.read_csv('new_data.csv')\n",
    "X = list()\n",
    "for col in df:\n",
    "    X.append(df[col])\n",
    "X.pop()\n",
    "X = pd.DataFrame(X).transpose()\n",
    "\n",
    "pipeline = Pipeline([('scaling', StandardScaler()), ('pca', PCA(n_components=2))])\n",
    "X = pipeline.fit_transform(X)\n",
    "Y = df.iloc[:, -1]\n",
    "new_X = list()\n",
    "new_Y = list()\n",
    "for (index, (x, y)) in enumerate(X):\n",
    "    if -5 <= x <= 5 and -5 <= y <= 5:\n",
    "        new_X.append([x, y])\n",
    "        new_Y.append(Y[index])\n",
    "\n",
    "fig = px.scatter(new_X, x=0, y=1, color=new_Y)\n",
    "fig.show()"
   ],
   "metadata": {
    "collapsed": false,
    "pycharm": {
     "name": "#%%\n"
    }
   }
  },
  {
   "cell_type": "markdown",
   "source": [
    "### Тестируем некоторые алгоритмы обучения с учителем на нашем наборе данных"
   ],
   "metadata": {
    "collapsed": false
   }
  },
  {
   "cell_type": "code",
   "execution_count": 12,
   "outputs": [
    {
     "name": "stdout",
     "output_type": "stream",
     "text": [
      "0.24719101123595505\n",
      "0.4606741573033708\n",
      "0.29213483146067415\n",
      "0:\tlearn: 1.0966088\ttotal: 30.3ms\tremaining: 15.1s\n"
     ]
    },
    {
     "name": "stderr",
     "output_type": "stream",
     "text": [
      "/Users/egor.bazhenov/PycharmProjects/autoML/venv/lib/python3.9/site-packages/catboost/core.py:1419: FutureWarning: iteritems is deprecated and will be removed in a future version. Use .items instead.\n",
      "  self._init_pool(data, label, cat_features, text_features, embedding_features, embedding_features_data, pairs, weight,\n"
     ]
    },
    {
     "name": "stdout",
     "output_type": "stream",
     "text": [
      "499:\tlearn: 0.6459983\ttotal: 6.65s\tremaining: 0us\n",
      "0:\tlearn: 1.0959536\ttotal: 24.1ms\tremaining: 12s\n",
      "499:\tlearn: 0.6320214\ttotal: 5.63s\tremaining: 0us\n",
      "0:\tlearn: 1.0964693\ttotal: 22.2ms\tremaining: 11.1s\n",
      "499:\tlearn: 0.6502947\ttotal: 5.57s\tremaining: 0us\n",
      "0:\tlearn: 1.0963877\ttotal: 19.2ms\tremaining: 9.59s\n",
      "499:\tlearn: 0.6546806\ttotal: 4.7s\tremaining: 0us\n",
      "0:\tlearn: 1.0960945\ttotal: 16ms\tremaining: 7.98s\n",
      "499:\tlearn: 0.6572685\ttotal: 4.47s\tremaining: 0us\n",
      "0:\tlearn: 1.0963975\ttotal: 18.1ms\tremaining: 9.02s\n",
      "499:\tlearn: 0.6346857\ttotal: 4.32s\tremaining: 0us\n",
      "0:\tlearn: 1.0967677\ttotal: 19.1ms\tremaining: 9.55s\n",
      "499:\tlearn: 0.6591791\ttotal: 4.8s\tremaining: 0us\n",
      "[0.5607282913165266, 0.6114285714285714]\n"
     ]
    }
   ],
   "source": [
    "from sklearn.model_selection import cross_val_score\n",
    "from catboost import CatBoostClassifier\n",
    "from sklearn import svm\n",
    "import pandas as pd\n",
    "\n",
    "def cross_by_model(X, y, model):\n",
    "    try:\n",
    "        score = cross_val_score(model, X, y, cv=7)\n",
    "        return score.mean()\n",
    "    except:\n",
    "        return 0\n",
    "\n",
    "df = pd.read_csv('new_data.csv')\n",
    "X = list()\n",
    "for col in df:\n",
    "    X.append(df[col])\n",
    "X.pop()\n",
    "X = pd.DataFrame(X).transpose()\n",
    "\n",
    "y = df.iloc[:, -1]\n",
    "pp = {}\n",
    "for yy in y:\n",
    "    if not pp.keys().__contains__(yy):\n",
    "        pp[yy] = 1\n",
    "    else:\n",
    "        pp[yy] = pp[yy] + 1\n",
    "\n",
    "for yy in pp.keys():\n",
    "    print(pp[yy] / len(y))\n",
    "\n",
    "algos = [svm.SVC(kernel='linear', gamma=1), CatBoostClassifier(iterations=500, depth=6, learning_rate=0.01,\n",
    "                                                             metric_period=500, task_type='CPU')]\n",
    "results = list()\n",
    "for algo in algos:\n",
    "    results.append(cross_by_model(X, y, algo))\n",
    "\n",
    "print(results)"
   ],
   "metadata": {
    "collapsed": false,
    "pycharm": {
     "name": "#%%\n"
    }
   }
  },
  {
   "cell_type": "code",
   "execution_count": null,
   "outputs": [],
   "source": [],
   "metadata": {
    "collapsed": false,
    "pycharm": {
     "name": "#%%\n"
    }
   }
  }
 ],
 "metadata": {
  "kernelspec": {
   "display_name": "Python 3",
   "language": "python",
   "name": "python3"
  },
  "language_info": {
   "codemirror_mode": {
    "name": "ipython",
    "version": 2
   },
   "file_extension": ".py",
   "mimetype": "text/x-python",
   "name": "python",
   "nbconvert_exporter": "python",
   "pygments_lexer": "ipython2",
   "version": "2.7.6"
  }
 },
 "nbformat": 4,
 "nbformat_minor": 0
}